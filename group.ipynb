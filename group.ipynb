{
 "cells": [
  {
   "cell_type": "markdown",
   "metadata": {},
   "source": [
    "# PHASE 2 PROJECT\n",
    "## GROUP MEMBERS\n",
    "1. SHARON KALIKU\n",
    "2. PAUL KAMAU\n",
    "3. KIPKOSGEI KIPTUI\n",
    "4. EZRA KIPCHIRCHIR\n",
    "5. HERI KIMOTHO\n",
    "## BUSINESS STAKEHOLDER\n",
    " The real estate agency \n",
    "\n",
    "## BUSINESS PROBLEM \n",
    "A real estate agency wants to analyze the factors that influence the prices of houses in order to provide accurate pricing estimates to their clients. The agency aims to understand the relationship between various features of a house, such as the number of rooms, living area, basement area, overall quality, and other relevant factors, and how they affect the sale price.\n",
    "\n",
    "The clients being, homeowners and potential house buyers have difficulty in making informed decisions regarding property investments, to make this decision, understanding the factors influencing housing prices in a specific area is necessary.\n",
    "## OBJECTIVES\n",
    "REAL ESTATE AGENCY\n",
    "- To identify the locations with the highest sales prices.\n",
    "- To identify how seasonal trends affect sales.\n",
    "- To predict prices of houses depending on the features.\n",
    "\n"
   ]
  },
  {
   "cell_type": "markdown",
   "metadata": {},
   "source": [
    "Importing the necessary libraries that will be used to perform analysis on our data "
   ]
  },
  {
   "cell_type": "code",
   "execution_count": 57,
   "metadata": {},
   "outputs": [],
   "source": [
    "import pandas as pd\n",
    "import matplotlib.pyplot as plt\n",
    "import seaborn as sns\n",
    "import statsmodels.api as sm\n",
    "from scipy import stats\n",
    "import numpy as np\n",
    "from sklearn.model_selection import train_test_split\n",
    "from sklearn.linear_model import LinearRegression\n",
    "from sklearn.metrics import mean_squared_error, r2_score\n",
    "data = pd.read_csv('kc_house_data.csv')\n",
    "areas = pd.read_csv('deliverylocations.csv')"
   ]
  },
  {
   "cell_type": "markdown",
   "metadata": {},
   "source": [
    "Defining functions to load and view the data"
   ]
  },
  {
   "cell_type": "code",
   "execution_count": 58,
   "metadata": {},
   "outputs": [],
   "source": [
    "# loading data\n",
    "\n",
    "def desription_data(data):\n",
    "    data = pd.read_csv(data)\n",
    "    print(\"\\n.............Info:.................\")\n",
    "    print(data.info())\n",
    "    print(\"\\n.............Describe:...............\")\n",
    "    print(data.describe())\n",
    "    print(\"\\n.............Head:.................\")\n",
    "    print(data.head())"
   ]
  },
  {
   "cell_type": "code",
   "execution_count": 59,
   "metadata": {},
   "outputs": [
    {
     "name": "stdout",
     "output_type": "stream",
     "text": [
      "\n",
      ".............Info:.................\n",
      "<class 'pandas.core.frame.DataFrame'>\n",
      "RangeIndex: 21597 entries, 0 to 21596\n",
      "Data columns (total 21 columns):\n",
      " #   Column         Non-Null Count  Dtype  \n",
      "---  ------         --------------  -----  \n",
      " 0   id             21597 non-null  int64  \n",
      " 1   date           21597 non-null  object \n",
      " 2   price          21597 non-null  float64\n",
      " 3   bedrooms       21597 non-null  int64  \n",
      " 4   bathrooms      21597 non-null  float64\n",
      " 5   sqft_living    21597 non-null  int64  \n",
      " 6   sqft_lot       21597 non-null  int64  \n",
      " 7   floors         21597 non-null  float64\n",
      " 8   waterfront     19221 non-null  object \n",
      " 9   view           21534 non-null  object \n",
      " 10  condition      21597 non-null  object \n",
      " 11  grade          21597 non-null  object \n",
      " 12  sqft_above     21597 non-null  int64  \n",
      " 13  sqft_basement  21597 non-null  object \n",
      " 14  yr_built       21597 non-null  int64  \n",
      " 15  yr_renovated   17755 non-null  float64\n",
      " 16  zipcode        21597 non-null  int64  \n",
      " 17  lat            21597 non-null  float64\n",
      " 18  long           21597 non-null  float64\n",
      " 19  sqft_living15  21597 non-null  int64  \n",
      " 20  sqft_lot15     21597 non-null  int64  \n",
      "dtypes: float64(6), int64(9), object(6)\n",
      "memory usage: 3.5+ MB\n",
      "None\n",
      "\n",
      ".............Describe:...............\n",
      "                 id         price      bedrooms     bathrooms   sqft_living  \\\n",
      "count  2.159700e+04  2.159700e+04  21597.000000  21597.000000  21597.000000   \n",
      "mean   4.580474e+09  5.402966e+05      3.373200      2.115826   2080.321850   \n",
      "std    2.876736e+09  3.673681e+05      0.926299      0.768984    918.106125   \n",
      "min    1.000102e+06  7.800000e+04      1.000000      0.500000    370.000000   \n",
      "25%    2.123049e+09  3.220000e+05      3.000000      1.750000   1430.000000   \n",
      "50%    3.904930e+09  4.500000e+05      3.000000      2.250000   1910.000000   \n",
      "75%    7.308900e+09  6.450000e+05      4.000000      2.500000   2550.000000   \n",
      "max    9.900000e+09  7.700000e+06     33.000000      8.000000  13540.000000   \n",
      "\n",
      "           sqft_lot        floors    sqft_above      yr_built  yr_renovated  \\\n",
      "count  2.159700e+04  21597.000000  21597.000000  21597.000000  17755.000000   \n",
      "mean   1.509941e+04      1.494096   1788.596842   1970.999676     83.636778   \n",
      "std    4.141264e+04      0.539683    827.759761     29.375234    399.946414   \n",
      "min    5.200000e+02      1.000000    370.000000   1900.000000      0.000000   \n",
      "25%    5.040000e+03      1.000000   1190.000000   1951.000000      0.000000   \n",
      "50%    7.618000e+03      1.500000   1560.000000   1975.000000      0.000000   \n",
      "75%    1.068500e+04      2.000000   2210.000000   1997.000000      0.000000   \n",
      "max    1.651359e+06      3.500000   9410.000000   2015.000000   2015.000000   \n",
      "\n",
      "            zipcode           lat          long  sqft_living15     sqft_lot15  \n",
      "count  21597.000000  21597.000000  21597.000000   21597.000000   21597.000000  \n",
      "mean   98077.951845     47.560093   -122.213982    1986.620318   12758.283512  \n",
      "std       53.513072      0.138552      0.140724     685.230472   27274.441950  \n",
      "min    98001.000000     47.155900   -122.519000     399.000000     651.000000  \n",
      "25%    98033.000000     47.471100   -122.328000    1490.000000    5100.000000  \n",
      "50%    98065.000000     47.571800   -122.231000    1840.000000    7620.000000  \n",
      "75%    98118.000000     47.678000   -122.125000    2360.000000   10083.000000  \n",
      "max    98199.000000     47.777600   -121.315000    6210.000000  871200.000000  \n",
      "\n",
      ".............Head:.................\n",
      "           id        date     price  bedrooms  bathrooms  sqft_living  \\\n",
      "0  7129300520  10/13/2014  221900.0         3       1.00         1180   \n",
      "1  6414100192   12/9/2014  538000.0         3       2.25         2570   \n",
      "2  5631500400   2/25/2015  180000.0         2       1.00          770   \n",
      "3  2487200875   12/9/2014  604000.0         4       3.00         1960   \n",
      "4  1954400510   2/18/2015  510000.0         3       2.00         1680   \n",
      "\n",
      "   sqft_lot  floors waterfront  view  ...          grade sqft_above  \\\n",
      "0      5650     1.0        NaN  NONE  ...      7 Average       1180   \n",
      "1      7242     2.0         NO  NONE  ...      7 Average       2170   \n",
      "2     10000     1.0         NO  NONE  ...  6 Low Average        770   \n",
      "3      5000     1.0         NO  NONE  ...      7 Average       1050   \n",
      "4      8080     1.0         NO  NONE  ...         8 Good       1680   \n",
      "\n",
      "   sqft_basement yr_built  yr_renovated  zipcode      lat     long  \\\n",
      "0            0.0     1955           0.0    98178  47.5112 -122.257   \n",
      "1          400.0     1951        1991.0    98125  47.7210 -122.319   \n",
      "2            0.0     1933           NaN    98028  47.7379 -122.233   \n",
      "3          910.0     1965           0.0    98136  47.5208 -122.393   \n",
      "4            0.0     1987           0.0    98074  47.6168 -122.045   \n",
      "\n",
      "   sqft_living15  sqft_lot15  \n",
      "0           1340        5650  \n",
      "1           1690        7639  \n",
      "2           2720        8062  \n",
      "3           1360        5000  \n",
      "4           1800        7503  \n",
      "\n",
      "[5 rows x 21 columns]\n"
     ]
    }
   ],
   "source": [
    "desription_data('kc_house_data.csv')"
   ]
  },
  {
   "cell_type": "code",
   "execution_count": null,
   "metadata": {},
   "outputs": [],
   "source": []
  },
  {
   "cell_type": "markdown",
   "metadata": {},
   "source": [
    "## Null values\n",
    "Looking at the information above we can see only three columns have missing values, that is; \"waterfront\", \"view\" and \"yr_renovated\". Every house has its own unique features and not all are the same. Some houses contain certain features while others lack them. Since this is real world data, we can account for missing values in \"waterfront\" and \"view\" columns by saying not all houses are build the same and those lacking the two features have caused our data on the two columns to be inconsitent with the rest of the other columns. The \"yr_renovated\" column can also be accounted for by saying not all houses undergo renovation. Houses build earlier might need renovation but recent houses do not require renovation hence the missing values in the column\n",
    " "
   ]
  },
  {
   "cell_type": "code",
   "execution_count": 5,
   "metadata": {},
   "outputs": [],
   "source": [
    "# Using mode to impute missing values\n",
    "# Python function to impute missing values\n",
    "\n",
    "def replace_missing_with_mode(data, column_name):\n",
    "    mode_value = data[column_name].mode().iloc[0]  \n",
    "    data[column_name].fillna(mode_value, inplace =True)"
   ]
  },
  {
   "cell_type": "code",
   "execution_count": 6,
   "metadata": {},
   "outputs": [],
   "source": [
    "# columns to be imputed\n",
    "replace_missing_with_mode(data,'view')\n",
    "replace_missing_with_mode(data, 'waterfront')"
   ]
  },
  {
   "cell_type": "code",
   "execution_count": 81,
   "metadata": {},
   "outputs": [],
   "source": [
    "# Changing our date from object to datetime data type\n",
    "data['date'] = pd.to_datetime(data['date'])"
   ]
  },
  {
   "cell_type": "markdown",
   "metadata": {},
   "source": [
    "After checking for null values, we check for any duplicated values in the data."
   ]
  },
  {
   "cell_type": "code",
   "execution_count": 9,
   "metadata": {},
   "outputs": [
    {
     "data": {
      "text/plain": [
       "0"
      ]
     },
     "execution_count": 9,
     "metadata": {},
     "output_type": "execute_result"
    }
   ],
   "source": [
    "# Checking for duplicated values in our data\n",
    "data.duplicated().sum()"
   ]
  },
  {
   "cell_type": "code",
   "execution_count": 10,
   "metadata": {},
   "outputs": [],
   "source": [
    "# drop the rows in sqft_basement with a '?'\n",
    "data= data.drop(data[data.sqft_basement == '?'].index)\n"
   ]
  },
  {
   "cell_type": "markdown",
   "metadata": {},
   "source": [
    "Creating a new column 'Grade_1' that stores our new 'grade' column  after getting rid of the string 'grade' and converting it to a numeric datatype  "
   ]
  },
  {
   "cell_type": "code",
   "execution_count": 60,
   "metadata": {},
   "outputs": [],
   "source": [
    "data[\"Grade_1\"] = data[\"grade\"].str.split().apply(lambda x: x[0])\n",
    "# Convert the Grade1 column to an integer.\n",
    "data[\"Grade_1\"] = pd.to_numeric(data[\"Grade_1\"])"
   ]
  },
  {
   "cell_type": "markdown",
   "metadata": {},
   "source": [
    "### Converting the categorical columns to numerical data types"
   ]
  },
  {
   "cell_type": "markdown",
   "metadata": {},
   "source": [
    "We are converting the following categorical data \"Waterfront\", \"View\" and  \"grade\" into numerical data  types."
   ]
  },
  {
   "cell_type": "code",
   "execution_count": 61,
   "metadata": {},
   "outputs": [],
   "source": [
    "\n",
    "data['view_1'] = data['view'].replace({'NONE': 0,'FAIR':1,'AVERAGE': 2,'GOOD':3, 'EXCELLENT':4})\n",
    "data['waterfront_1'] = data['waterfront'].replace({'YES': 0, 'NO':1})\n",
    "data['condition1'] = data['condition'].replace({'Poor': 0, 'Fair':1,'Average':2,'Good':3,'Very Good':4})\n"
   ]
  },
  {
   "cell_type": "markdown",
   "metadata": {},
   "source": [
    "Since we have already replaced the strings in our categorical data with numeric values we can drop the original columns "
   ]
  },
  {
   "cell_type": "code",
   "execution_count": 62,
   "metadata": {},
   "outputs": [],
   "source": [
    "data.drop(columns = ['waterfront', 'view', 'grade','condition', ], inplace= True)"
   ]
  },
  {
   "cell_type": "code",
   "execution_count": 14,
   "metadata": {},
   "outputs": [
    {
     "data": {
      "text/plain": [
       "id                        int64\n",
       "date             datetime64[ns]\n",
       "price                   float64\n",
       "bedrooms                  int64\n",
       "bathrooms               float64\n",
       "sqft_living               int64\n",
       "sqft_lot                  int64\n",
       "floors                  float64\n",
       "sqft_above                int64\n",
       "sqft_basement            object\n",
       "yr_built                  int64\n",
       "yr_renovated            float64\n",
       "zipcode                   int64\n",
       "lat                     float64\n",
       "long                    float64\n",
       "sqft_living15             int64\n",
       "sqft_lot15                int64\n",
       "Grade_1                   int64\n",
       "view_1                    int64\n",
       "waterfront_1              int64\n",
       "condition1                int64\n",
       "dtype: object"
      ]
     },
     "execution_count": 14,
     "metadata": {},
     "output_type": "execute_result"
    }
   ],
   "source": [
    "data.dtypes"
   ]
  },
  {
   "cell_type": "markdown",
   "metadata": {},
   "source": [
    " Delivery locations (zip codes) data "
   ]
  },
  {
   "cell_type": "code",
   "execution_count": 63,
   "metadata": {},
   "outputs": [
    {
     "name": "stdout",
     "output_type": "stream",
     "text": [
      "    Zip Code         City\n",
      "0      98001       Algona\n",
      "1      98001       Auburn\n",
      "2      98001  Federal Way\n",
      "3      98002       Auburn\n",
      "4      98003  Federal Way\n",
      "..       ...          ...\n",
      "447      NaN          NaN\n",
      "448      NaN          NaN\n",
      "449      NaN          NaN\n",
      "450      NaN          NaN\n",
      "451      NaN          NaN\n",
      "\n",
      "[452 rows x 2 columns]\n"
     ]
    }
   ],
   "source": [
    "# Create a new dataframe with two columns for zip codes and cities\n",
    "new_areas = pd.DataFrame(columns=['Zip Code', 'City'])\n",
    "\n",
    "# Iterate over the original dataframe and extract zip codes and cities\n",
    "for i in range(len(areas.columns)):\n",
    "    # Skip the columns that are not zip codes\n",
    "    if i % 2 != 0:\n",
    "        continue\n",
    "    # Extract the zip codes and cities from each pair of columns\n",
    "    zip_codes = areas.iloc[:, i]\n",
    "    cities = areas.iloc[:, i + 1]\n",
    "    # Append the zip codes and cities to the new dataframe\n",
    "    new_areas = new_areas.append(pd.DataFrame({'Zip Code': zip_codes, 'City': cities}), ignore_index=True)\n",
    "\n",
    "# Print the new dataframe\n",
    "print(new_areas)"
   ]
  },
  {
   "cell_type": "code",
   "execution_count": 64,
   "metadata": {},
   "outputs": [
    {
     "data": {
      "text/html": [
       "<div>\n",
       "<style scoped>\n",
       "    .dataframe tbody tr th:only-of-type {\n",
       "        vertical-align: middle;\n",
       "    }\n",
       "\n",
       "    .dataframe tbody tr th {\n",
       "        vertical-align: top;\n",
       "    }\n",
       "\n",
       "    .dataframe thead th {\n",
       "        text-align: right;\n",
       "    }\n",
       "</style>\n",
       "<table border=\"1\" class=\"dataframe\">\n",
       "  <thead>\n",
       "    <tr style=\"text-align: right;\">\n",
       "      <th></th>\n",
       "      <th>Zip Code</th>\n",
       "      <th>City</th>\n",
       "    </tr>\n",
       "  </thead>\n",
       "  <tbody>\n",
       "    <tr>\n",
       "      <th>0</th>\n",
       "      <td>98001</td>\n",
       "      <td>Algona</td>\n",
       "    </tr>\n",
       "    <tr>\n",
       "      <th>1</th>\n",
       "      <td>98001</td>\n",
       "      <td>Auburn</td>\n",
       "    </tr>\n",
       "    <tr>\n",
       "      <th>2</th>\n",
       "      <td>98001</td>\n",
       "      <td>Federal Way</td>\n",
       "    </tr>\n",
       "    <tr>\n",
       "      <th>3</th>\n",
       "      <td>98002</td>\n",
       "      <td>Auburn</td>\n",
       "    </tr>\n",
       "    <tr>\n",
       "      <th>4</th>\n",
       "      <td>98003</td>\n",
       "      <td>Federal Way</td>\n",
       "    </tr>\n",
       "    <tr>\n",
       "      <th>...</th>\n",
       "      <td>...</td>\n",
       "      <td>...</td>\n",
       "    </tr>\n",
       "    <tr>\n",
       "      <th>404</th>\n",
       "      <td>98593</td>\n",
       "      <td>Vader</td>\n",
       "    </tr>\n",
       "    <tr>\n",
       "      <th>405</th>\n",
       "      <td>98595</td>\n",
       "      <td>Westport</td>\n",
       "    </tr>\n",
       "    <tr>\n",
       "      <th>406</th>\n",
       "      <td>98596</td>\n",
       "      <td>Chehalis</td>\n",
       "    </tr>\n",
       "    <tr>\n",
       "      <th>407</th>\n",
       "      <td>98596</td>\n",
       "      <td>Winlock</td>\n",
       "    </tr>\n",
       "    <tr>\n",
       "      <th>408</th>\n",
       "      <td>98597</td>\n",
       "      <td>Yelm</td>\n",
       "    </tr>\n",
       "  </tbody>\n",
       "</table>\n",
       "<p>409 rows × 2 columns</p>\n",
       "</div>"
      ],
      "text/plain": [
       "    Zip Code         City\n",
       "0      98001       Algona\n",
       "1      98001       Auburn\n",
       "2      98001  Federal Way\n",
       "3      98002       Auburn\n",
       "4      98003  Federal Way\n",
       "..       ...          ...\n",
       "404    98593        Vader\n",
       "405    98595     Westport\n",
       "406    98596     Chehalis\n",
       "407    98596      Winlock\n",
       "408    98597         Yelm\n",
       "\n",
       "[409 rows x 2 columns]"
      ]
     },
     "execution_count": 64,
     "metadata": {},
     "output_type": "execute_result"
    }
   ],
   "source": [
    "new_areas.isnull().sum()\n",
    "new_areas.dropna()"
   ]
  },
  {
   "cell_type": "code",
   "execution_count": 66,
   "metadata": {},
   "outputs": [
    {
     "data": {
      "text/html": [
       "<div>\n",
       "<style scoped>\n",
       "    .dataframe tbody tr th:only-of-type {\n",
       "        vertical-align: middle;\n",
       "    }\n",
       "\n",
       "    .dataframe tbody tr th {\n",
       "        vertical-align: top;\n",
       "    }\n",
       "\n",
       "    .dataframe thead th {\n",
       "        text-align: right;\n",
       "    }\n",
       "</style>\n",
       "<table border=\"1\" class=\"dataframe\">\n",
       "  <thead>\n",
       "    <tr style=\"text-align: right;\">\n",
       "      <th></th>\n",
       "      <th>zipcode</th>\n",
       "      <th>City</th>\n",
       "    </tr>\n",
       "  </thead>\n",
       "  <tbody>\n",
       "    <tr>\n",
       "      <th>0</th>\n",
       "      <td>98001</td>\n",
       "      <td>Algona</td>\n",
       "    </tr>\n",
       "    <tr>\n",
       "      <th>1</th>\n",
       "      <td>98001</td>\n",
       "      <td>Auburn</td>\n",
       "    </tr>\n",
       "    <tr>\n",
       "      <th>2</th>\n",
       "      <td>98001</td>\n",
       "      <td>Federal Way</td>\n",
       "    </tr>\n",
       "    <tr>\n",
       "      <th>3</th>\n",
       "      <td>98002</td>\n",
       "      <td>Auburn</td>\n",
       "    </tr>\n",
       "    <tr>\n",
       "      <th>4</th>\n",
       "      <td>98003</td>\n",
       "      <td>Federal Way</td>\n",
       "    </tr>\n",
       "    <tr>\n",
       "      <th>...</th>\n",
       "      <td>...</td>\n",
       "      <td>...</td>\n",
       "    </tr>\n",
       "    <tr>\n",
       "      <th>447</th>\n",
       "      <td>NaN</td>\n",
       "      <td>NaN</td>\n",
       "    </tr>\n",
       "    <tr>\n",
       "      <th>448</th>\n",
       "      <td>NaN</td>\n",
       "      <td>NaN</td>\n",
       "    </tr>\n",
       "    <tr>\n",
       "      <th>449</th>\n",
       "      <td>NaN</td>\n",
       "      <td>NaN</td>\n",
       "    </tr>\n",
       "    <tr>\n",
       "      <th>450</th>\n",
       "      <td>NaN</td>\n",
       "      <td>NaN</td>\n",
       "    </tr>\n",
       "    <tr>\n",
       "      <th>451</th>\n",
       "      <td>NaN</td>\n",
       "      <td>NaN</td>\n",
       "    </tr>\n",
       "  </tbody>\n",
       "</table>\n",
       "<p>452 rows × 2 columns</p>\n",
       "</div>"
      ],
      "text/plain": [
       "    zipcode         City\n",
       "0     98001       Algona\n",
       "1     98001       Auburn\n",
       "2     98001  Federal Way\n",
       "3     98002       Auburn\n",
       "4     98003  Federal Way\n",
       "..      ...          ...\n",
       "447     NaN          NaN\n",
       "448     NaN          NaN\n",
       "449     NaN          NaN\n",
       "450     NaN          NaN\n",
       "451     NaN          NaN\n",
       "\n",
       "[452 rows x 2 columns]"
      ]
     },
     "execution_count": 66,
     "metadata": {},
     "output_type": "execute_result"
    }
   ],
   "source": [
    "#renaming to match our first data set\n",
    "new_areas = new_areas.rename(columns={\"Zip Code\": \"zipcode\"})\n",
    "new_areas"
   ]
  },
  {
   "cell_type": "code",
   "execution_count": 67,
   "metadata": {},
   "outputs": [
    {
     "data": {
      "text/html": [
       "<div>\n",
       "<style scoped>\n",
       "    .dataframe tbody tr th:only-of-type {\n",
       "        vertical-align: middle;\n",
       "    }\n",
       "\n",
       "    .dataframe tbody tr th {\n",
       "        vertical-align: top;\n",
       "    }\n",
       "\n",
       "    .dataframe thead th {\n",
       "        text-align: right;\n",
       "    }\n",
       "</style>\n",
       "<table border=\"1\" class=\"dataframe\">\n",
       "  <thead>\n",
       "    <tr style=\"text-align: right;\">\n",
       "      <th></th>\n",
       "      <th>zipcode</th>\n",
       "      <th>City</th>\n",
       "      <th>id</th>\n",
       "      <th>date</th>\n",
       "      <th>price</th>\n",
       "      <th>bedrooms</th>\n",
       "      <th>bathrooms</th>\n",
       "      <th>sqft_living</th>\n",
       "      <th>sqft_lot</th>\n",
       "      <th>floors</th>\n",
       "      <th>...</th>\n",
       "      <th>yr_built</th>\n",
       "      <th>yr_renovated</th>\n",
       "      <th>lat</th>\n",
       "      <th>long</th>\n",
       "      <th>sqft_living15</th>\n",
       "      <th>sqft_lot15</th>\n",
       "      <th>Grade_1</th>\n",
       "      <th>view_1</th>\n",
       "      <th>waterfront_1</th>\n",
       "      <th>condition1</th>\n",
       "    </tr>\n",
       "  </thead>\n",
       "  <tbody>\n",
       "    <tr>\n",
       "      <th>0</th>\n",
       "      <td>98001</td>\n",
       "      <td>Algona</td>\n",
       "      <td>7129300520</td>\n",
       "      <td>10/13/2014</td>\n",
       "      <td>221900.0</td>\n",
       "      <td>3</td>\n",
       "      <td>1.00</td>\n",
       "      <td>1180</td>\n",
       "      <td>5650</td>\n",
       "      <td>1.0</td>\n",
       "      <td>...</td>\n",
       "      <td>1955</td>\n",
       "      <td>0.0</td>\n",
       "      <td>47.5112</td>\n",
       "      <td>-122.257</td>\n",
       "      <td>1340</td>\n",
       "      <td>5650</td>\n",
       "      <td>7</td>\n",
       "      <td>0.0</td>\n",
       "      <td>NaN</td>\n",
       "      <td>2</td>\n",
       "    </tr>\n",
       "    <tr>\n",
       "      <th>1</th>\n",
       "      <td>98001</td>\n",
       "      <td>Algona</td>\n",
       "      <td>6414100192</td>\n",
       "      <td>12/9/2014</td>\n",
       "      <td>538000.0</td>\n",
       "      <td>3</td>\n",
       "      <td>2.25</td>\n",
       "      <td>2570</td>\n",
       "      <td>7242</td>\n",
       "      <td>2.0</td>\n",
       "      <td>...</td>\n",
       "      <td>1951</td>\n",
       "      <td>1991.0</td>\n",
       "      <td>47.7210</td>\n",
       "      <td>-122.319</td>\n",
       "      <td>1690</td>\n",
       "      <td>7639</td>\n",
       "      <td>7</td>\n",
       "      <td>0.0</td>\n",
       "      <td>1.0</td>\n",
       "      <td>2</td>\n",
       "    </tr>\n",
       "    <tr>\n",
       "      <th>2</th>\n",
       "      <td>98001</td>\n",
       "      <td>Algona</td>\n",
       "      <td>5631500400</td>\n",
       "      <td>2/25/2015</td>\n",
       "      <td>180000.0</td>\n",
       "      <td>2</td>\n",
       "      <td>1.00</td>\n",
       "      <td>770</td>\n",
       "      <td>10000</td>\n",
       "      <td>1.0</td>\n",
       "      <td>...</td>\n",
       "      <td>1933</td>\n",
       "      <td>NaN</td>\n",
       "      <td>47.7379</td>\n",
       "      <td>-122.233</td>\n",
       "      <td>2720</td>\n",
       "      <td>8062</td>\n",
       "      <td>6</td>\n",
       "      <td>0.0</td>\n",
       "      <td>1.0</td>\n",
       "      <td>2</td>\n",
       "    </tr>\n",
       "    <tr>\n",
       "      <th>3</th>\n",
       "      <td>98001</td>\n",
       "      <td>Auburn</td>\n",
       "      <td>7129300520</td>\n",
       "      <td>10/13/2014</td>\n",
       "      <td>221900.0</td>\n",
       "      <td>3</td>\n",
       "      <td>1.00</td>\n",
       "      <td>1180</td>\n",
       "      <td>5650</td>\n",
       "      <td>1.0</td>\n",
       "      <td>...</td>\n",
       "      <td>1955</td>\n",
       "      <td>0.0</td>\n",
       "      <td>47.5112</td>\n",
       "      <td>-122.257</td>\n",
       "      <td>1340</td>\n",
       "      <td>5650</td>\n",
       "      <td>7</td>\n",
       "      <td>0.0</td>\n",
       "      <td>NaN</td>\n",
       "      <td>2</td>\n",
       "    </tr>\n",
       "    <tr>\n",
       "      <th>4</th>\n",
       "      <td>98001</td>\n",
       "      <td>Auburn</td>\n",
       "      <td>6414100192</td>\n",
       "      <td>12/9/2014</td>\n",
       "      <td>538000.0</td>\n",
       "      <td>3</td>\n",
       "      <td>2.25</td>\n",
       "      <td>2570</td>\n",
       "      <td>7242</td>\n",
       "      <td>2.0</td>\n",
       "      <td>...</td>\n",
       "      <td>1951</td>\n",
       "      <td>1991.0</td>\n",
       "      <td>47.7210</td>\n",
       "      <td>-122.319</td>\n",
       "      <td>1690</td>\n",
       "      <td>7639</td>\n",
       "      <td>7</td>\n",
       "      <td>0.0</td>\n",
       "      <td>1.0</td>\n",
       "      <td>2</td>\n",
       "    </tr>\n",
       "    <tr>\n",
       "      <th>...</th>\n",
       "      <td>...</td>\n",
       "      <td>...</td>\n",
       "      <td>...</td>\n",
       "      <td>...</td>\n",
       "      <td>...</td>\n",
       "      <td>...</td>\n",
       "      <td>...</td>\n",
       "      <td>...</td>\n",
       "      <td>...</td>\n",
       "      <td>...</td>\n",
       "      <td>...</td>\n",
       "      <td>...</td>\n",
       "      <td>...</td>\n",
       "      <td>...</td>\n",
       "      <td>...</td>\n",
       "      <td>...</td>\n",
       "      <td>...</td>\n",
       "      <td>...</td>\n",
       "      <td>...</td>\n",
       "      <td>...</td>\n",
       "      <td>...</td>\n",
       "    </tr>\n",
       "    <tr>\n",
       "      <th>2405</th>\n",
       "      <td>nan</td>\n",
       "      <td>NaN</td>\n",
       "      <td>1049010390</td>\n",
       "      <td>3/19/2015</td>\n",
       "      <td>505000.0</td>\n",
       "      <td>3</td>\n",
       "      <td>2.00</td>\n",
       "      <td>1260</td>\n",
       "      <td>5460</td>\n",
       "      <td>1.0</td>\n",
       "      <td>...</td>\n",
       "      <td>1972</td>\n",
       "      <td>0.0</td>\n",
       "      <td>47.7355</td>\n",
       "      <td>-122.180</td>\n",
       "      <td>1510</td>\n",
       "      <td>5460</td>\n",
       "      <td>7</td>\n",
       "      <td>0.0</td>\n",
       "      <td>1.0</td>\n",
       "      <td>2</td>\n",
       "    </tr>\n",
       "    <tr>\n",
       "      <th>2406</th>\n",
       "      <td>nan</td>\n",
       "      <td>NaN</td>\n",
       "      <td>7905370390</td>\n",
       "      <td>10/9/2014</td>\n",
       "      <td>475000.0</td>\n",
       "      <td>5</td>\n",
       "      <td>2.50</td>\n",
       "      <td>2340</td>\n",
       "      <td>7200</td>\n",
       "      <td>1.0</td>\n",
       "      <td>...</td>\n",
       "      <td>1975</td>\n",
       "      <td>0.0</td>\n",
       "      <td>47.7206</td>\n",
       "      <td>-122.211</td>\n",
       "      <td>1930</td>\n",
       "      <td>7221</td>\n",
       "      <td>7</td>\n",
       "      <td>0.0</td>\n",
       "      <td>1.0</td>\n",
       "      <td>2</td>\n",
       "    </tr>\n",
       "    <tr>\n",
       "      <th>2407</th>\n",
       "      <td>nan</td>\n",
       "      <td>NaN</td>\n",
       "      <td>4140090240</td>\n",
       "      <td>11/5/2014</td>\n",
       "      <td>520000.0</td>\n",
       "      <td>3</td>\n",
       "      <td>2.25</td>\n",
       "      <td>2590</td>\n",
       "      <td>9263</td>\n",
       "      <td>1.0</td>\n",
       "      <td>...</td>\n",
       "      <td>1977</td>\n",
       "      <td>0.0</td>\n",
       "      <td>47.7691</td>\n",
       "      <td>-122.262</td>\n",
       "      <td>2580</td>\n",
       "      <td>9450</td>\n",
       "      <td>8</td>\n",
       "      <td>0.0</td>\n",
       "      <td>1.0</td>\n",
       "      <td>4</td>\n",
       "    </tr>\n",
       "    <tr>\n",
       "      <th>2408</th>\n",
       "      <td>nan</td>\n",
       "      <td>NaN</td>\n",
       "      <td>4055700030</td>\n",
       "      <td>5/2/2015</td>\n",
       "      <td>1450000.0</td>\n",
       "      <td>3</td>\n",
       "      <td>4.50</td>\n",
       "      <td>3970</td>\n",
       "      <td>24920</td>\n",
       "      <td>2.0</td>\n",
       "      <td>...</td>\n",
       "      <td>1977</td>\n",
       "      <td>NaN</td>\n",
       "      <td>47.7183</td>\n",
       "      <td>-122.258</td>\n",
       "      <td>2610</td>\n",
       "      <td>13838</td>\n",
       "      <td>10</td>\n",
       "      <td>2.0</td>\n",
       "      <td>1.0</td>\n",
       "      <td>2</td>\n",
       "    </tr>\n",
       "    <tr>\n",
       "      <th>2409</th>\n",
       "      <td>nan</td>\n",
       "      <td>NaN</td>\n",
       "      <td>3775300030</td>\n",
       "      <td>12/31/2014</td>\n",
       "      <td>333500.0</td>\n",
       "      <td>3</td>\n",
       "      <td>1.75</td>\n",
       "      <td>1220</td>\n",
       "      <td>9732</td>\n",
       "      <td>1.0</td>\n",
       "      <td>...</td>\n",
       "      <td>1965</td>\n",
       "      <td>0.0</td>\n",
       "      <td>47.7736</td>\n",
       "      <td>-122.214</td>\n",
       "      <td>1630</td>\n",
       "      <td>10007</td>\n",
       "      <td>7</td>\n",
       "      <td>0.0</td>\n",
       "      <td>1.0</td>\n",
       "      <td>2</td>\n",
       "    </tr>\n",
       "  </tbody>\n",
       "</table>\n",
       "<p>2410 rows × 22 columns</p>\n",
       "</div>"
      ],
      "text/plain": [
       "     zipcode    City          id        date      price  bedrooms  bathrooms  \\\n",
       "0      98001  Algona  7129300520  10/13/2014   221900.0         3       1.00   \n",
       "1      98001  Algona  6414100192   12/9/2014   538000.0         3       2.25   \n",
       "2      98001  Algona  5631500400   2/25/2015   180000.0         2       1.00   \n",
       "3      98001  Auburn  7129300520  10/13/2014   221900.0         3       1.00   \n",
       "4      98001  Auburn  6414100192   12/9/2014   538000.0         3       2.25   \n",
       "...      ...     ...         ...         ...        ...       ...        ...   \n",
       "2405     nan     NaN  1049010390   3/19/2015   505000.0         3       2.00   \n",
       "2406     nan     NaN  7905370390   10/9/2014   475000.0         5       2.50   \n",
       "2407     nan     NaN  4140090240   11/5/2014   520000.0         3       2.25   \n",
       "2408     nan     NaN  4055700030    5/2/2015  1450000.0         3       4.50   \n",
       "2409     nan     NaN  3775300030  12/31/2014   333500.0         3       1.75   \n",
       "\n",
       "      sqft_living  sqft_lot  floors  ...  yr_built yr_renovated      lat  \\\n",
       "0            1180      5650     1.0  ...      1955          0.0  47.5112   \n",
       "1            2570      7242     2.0  ...      1951       1991.0  47.7210   \n",
       "2             770     10000     1.0  ...      1933          NaN  47.7379   \n",
       "3            1180      5650     1.0  ...      1955          0.0  47.5112   \n",
       "4            2570      7242     2.0  ...      1951       1991.0  47.7210   \n",
       "...           ...       ...     ...  ...       ...          ...      ...   \n",
       "2405         1260      5460     1.0  ...      1972          0.0  47.7355   \n",
       "2406         2340      7200     1.0  ...      1975          0.0  47.7206   \n",
       "2407         2590      9263     1.0  ...      1977          0.0  47.7691   \n",
       "2408         3970     24920     2.0  ...      1977          NaN  47.7183   \n",
       "2409         1220      9732     1.0  ...      1965          0.0  47.7736   \n",
       "\n",
       "         long  sqft_living15  sqft_lot15  Grade_1  view_1  waterfront_1  \\\n",
       "0    -122.257           1340        5650        7     0.0           NaN   \n",
       "1    -122.319           1690        7639        7     0.0           1.0   \n",
       "2    -122.233           2720        8062        6     0.0           1.0   \n",
       "3    -122.257           1340        5650        7     0.0           NaN   \n",
       "4    -122.319           1690        7639        7     0.0           1.0   \n",
       "...       ...            ...         ...      ...     ...           ...   \n",
       "2405 -122.180           1510        5460        7     0.0           1.0   \n",
       "2406 -122.211           1930        7221        7     0.0           1.0   \n",
       "2407 -122.262           2580        9450        8     0.0           1.0   \n",
       "2408 -122.258           2610       13838       10     2.0           1.0   \n",
       "2409 -122.214           1630       10007        7     0.0           1.0   \n",
       "\n",
       "      condition1  \n",
       "0              2  \n",
       "1              2  \n",
       "2              2  \n",
       "3              2  \n",
       "4              2  \n",
       "...          ...  \n",
       "2405           2  \n",
       "2406           2  \n",
       "2407           4  \n",
       "2408           2  \n",
       "2409           2  \n",
       "\n",
       "[2410 rows x 22 columns]"
      ]
     },
     "execution_count": 67,
     "metadata": {},
     "output_type": "execute_result"
    }
   ],
   "source": [
    "#merging our data sets\n",
    "new_areas['zipcode'] = new_areas['zipcode'].astype(str)\n",
    "data['zipcode'] = new_areas['zipcode'].astype(str)\n",
    "\n",
    "\n",
    "merged_data = pd.merge(new_areas, data , on='zipcode') \n",
    "merged_data"
   ]
  },
  {
   "cell_type": "code",
   "execution_count": 70,
   "metadata": {},
   "outputs": [],
   "source": [
    "merged_data.isnull().sum()\n",
    "#dropping the rows with null values\n",
    "new_data = merged_data.dropna()"
   ]
  },
  {
   "cell_type": "markdown",
   "metadata": {},
   "source": [
    "# Data visualization\n",
    "Now we have checked for abnormalities in the data, we can go ahead and plot the data to explore the distribution, relationships and patterns in the data. This will also help us in identifying outliers and trends.\n",
    " "
   ]
  },
  {
   "cell_type": "code",
   "execution_count": 15,
   "metadata": {},
   "outputs": [],
   "source": [
    "# Importing necessary libraries\n",
    "import matplotlib.pyplot as plt\n",
    "%matplotlib inline\n",
    "import seaborn as sns\n",
    "\n"
   ]
  },
  {
   "cell_type": "code",
   "execution_count": 16,
   "metadata": {},
   "outputs": [],
   "source": [
    "y = data[\"price\"]\n",
    "X = data.drop(\"price\", axis = 1)"
   ]
  },
  {
   "cell_type": "code",
   "execution_count": 17,
   "metadata": {},
   "outputs": [
    {
     "data": {
      "image/png": "[encoded data removed]",
      "text/plain": [
       "<Figure size 1080x1800 with 20 Axes>"
      ]
     },
     "metadata": {
      "needs_background": "light"
     },
     "output_type": "display_data"
    }
   ],
   "source": [
    "def scatter_plots(y, X):\n",
    "    plots = X.shape[1]\n",
    "    cols = 4\n",
    "    rows = (plots + cols - 1) // cols\n",
    "\n",
    "    fig, axes = plt.subplots(rows, cols, figsize=(15, 5 * rows))\n",
    "    fig.suptitle(f\"Scatter plot of Independent variables vs {y.name}\")\n",
    "\n",
    "    for i, ax in enumerate(axes.flat):\n",
    "        if i < plots:\n",
    "            x_col_name = X.columns[i]\n",
    "            ax.scatter(X.iloc[:, i], y, alpha=0.8)\n",
    "            ax.set_xlabel(x_col_name)\n",
    "            ax.set_ylabel(y.name)\n",
    "            ax.set_title(f\"{x_col_name} vs {y.name}\")\n",
    "            \n",
    "\n",
    "\n",
    "\n",
    "# Run the function\n",
    "scatter_plots(y, X)\n"
   ]
  },
  {
   "cell_type": "markdown",
   "metadata": {},
   "source": [
    "## Relationship between our independent variables and the dependent variable(\"price\")\n",
    "- \n"
   ]
  },
  {
   "cell_type": "code",
   "execution_count": 18,
   "metadata": {},
   "outputs": [],
   "source": [
    " #correlation \n",
    "columns_to_test = data.columns\n",
    "\n",
    "# computing the correlation matrix\n",
    "import numpy as np\n",
    "correlation_matrix = data[columns_to_test].corr()\n",
    "matrix = np.triu(np.ones_like(correlation_matrix, dtype = bool))\n",
    "one_sided_correlation = correlation_matrix.mask(matrix)\n"
   ]
  },
  {
   "cell_type": "code",
   "execution_count": 19,
   "metadata": {},
   "outputs": [
    {
     "data": {
      "image/png": "[encoded data removed]",
      "text/plain": [
       "<Figure size 1080x576 with 2 Axes>"
      ]
     },
     "metadata": {
      "needs_background": "light"
     },
     "output_type": "display_data"
    }
   ],
   "source": [
    "# using heatmap to visualize the correlation\n",
    "plt.figure(figsize=(15, 8))\n",
    "sns.heatmap(correlation_matrix, annot=True, cmap='coolwarm', linewidths=0.5, mask = matrix)\n",
    "plt.title(f'Correlation Matrix')\n",
    "plt.show()"
   ]
  },
  {
   "cell_type": "markdown",
   "metadata": {},
   "source": [
    "### Correlation of our columns against the target(\"price)\n"
   ]
  },
  {
   "cell_type": "code",
   "execution_count": 20,
   "metadata": {},
   "outputs": [
    {
     "data": {
      "text/plain": [
       "waterfront_1    -0.265969\n",
       "zipcode         -0.053166\n",
       "id              -0.015796\n",
       "long             0.022101\n",
       "condition1       0.035290\n",
       "yr_built         0.054459\n",
       "sqft_lot15       0.083192\n",
       "sqft_lot         0.087937\n",
       "yr_renovated     0.128227\n",
       "floors           0.256355\n",
       "lat              0.306507\n",
       "bedrooms         0.309204\n",
       "view_1           0.394885\n",
       "bathrooms        0.525889\n",
       "sqft_living15    0.586415\n",
       "sqft_above       0.605143\n",
       "Grade_1          0.667738\n",
       "sqft_living      0.702328\n",
       "price            1.000000\n",
       "Name: price, dtype: float64"
      ]
     },
     "execution_count": 20,
     "metadata": {},
     "output_type": "execute_result"
    }
   ],
   "source": [
    "def correlation(df):\n",
    "    \n",
    "    return data.corr()['price'].sort_values()\n",
    "    \n",
    "correlation(data)"
   ]
  },
  {
   "cell_type": "markdown",
   "metadata": {},
   "source": [
    "## Analyzing price and location"
   ]
  },
  {
   "cell_type": "code",
   "execution_count": 71,
   "metadata": {},
   "outputs": [
    {
     "data": {
      "image/png": "[encoded data removed]",
      "text/plain": [
       "<Figure size 432x288 with 1 Axes>"
      ]
     },
     "metadata": {
      "needs_background": "light"
     },
     "output_type": "display_data"
    }
   ],
   "source": [
    "def create_bar_graph(data):\n",
    "    # Count the occurrences of each city\n",
    "    city_counts = data['City'].value_counts()\n",
    "\n",
    "    # Select the top ten cities\n",
    "    top_cities = city_counts.head(10)\n",
    "\n",
    "    # Create a bar graph\n",
    "    plt.bar(top_cities.index, top_cities.values)\n",
    "    plt.xlabel('City')\n",
    "    plt.ylabel('Number of Houses')\n",
    "    plt.title('Top Ten Cities with the Most Houses')\n",
    "    plt.xticks(rotation=45)\n",
    "    plt.show()\n",
    "    \n",
    "\n",
    "# Example usage:\n",
    "create_bar_graph(new_data)"
   ]
  },
  {
   "cell_type": "code",
   "execution_count": 72,
   "metadata": {},
   "outputs": [
    {
     "data": {
      "image/png": "[encoded data removed]",
      "text/plain": [
       "<Figure size 432x288 with 1 Axes>"
      ]
     },
     "metadata": {
      "needs_background": "light"
     },
     "output_type": "display_data"
    }
   ],
   "source": [
    "city_prices = new_data.groupby('City')['price'].mean()\n",
    "\n",
    "# Select the top ten cities with the highest mean prices\n",
    "top_ten_cities = city_prices.nlargest(10)\n",
    "\n",
    "# Create a bar graph\n",
    "top_ten_cities.plot(kind='bar', xlabel='City', ylabel='Price', title='Top Ten Cities with Highest Prices')\n",
    "\n",
    "# Show the plot\n",
    "plt.show()"
   ]
  },
  {
   "cell_type": "markdown",
   "metadata": {},
   "source": [
    "## Analyzing seasonal trends in prices "
   ]
  },
  {
   "cell_type": "code",
   "execution_count": 79,
   "metadata": {},
   "outputs": [],
   "source": [
    "# Creating a function to map months to seasons\n",
    "def get_season(date):\n",
    "    if date.month in [3,4,5]:\n",
    "        return 'Spring'\n",
    "    elif date.month in [6,7,8]:\n",
    "        return 'Summer'\n",
    "    elif date.month in [9,10,11]:\n",
    "        return 'Autumn'\n",
    "    else:\n",
    "        return 'Winter'\n"
   ]
  },
  {
   "cell_type": "code",
   "execution_count": 82,
   "metadata": {},
   "outputs": [
    {
     "data": {
      "text/html": [
       "<div>\n",
       "<style scoped>\n",
       "    .dataframe tbody tr th:only-of-type {\n",
       "        vertical-align: middle;\n",
       "    }\n",
       "\n",
       "    .dataframe tbody tr th {\n",
       "        vertical-align: top;\n",
       "    }\n",
       "\n",
       "    .dataframe thead th {\n",
       "        text-align: right;\n",
       "    }\n",
       "</style>\n",
       "<table border=\"1\" class=\"dataframe\">\n",
       "  <thead>\n",
       "    <tr style=\"text-align: right;\">\n",
       "      <th></th>\n",
       "      <th>date</th>\n",
       "      <th>season</th>\n",
       "    </tr>\n",
       "  </thead>\n",
       "  <tbody>\n",
       "    <tr>\n",
       "      <th>0</th>\n",
       "      <td>2014-10-13</td>\n",
       "      <td>Autumn</td>\n",
       "    </tr>\n",
       "    <tr>\n",
       "      <th>1</th>\n",
       "      <td>2014-12-09</td>\n",
       "      <td>Winter</td>\n",
       "    </tr>\n",
       "    <tr>\n",
       "      <th>2</th>\n",
       "      <td>2015-02-25</td>\n",
       "      <td>Winter</td>\n",
       "    </tr>\n",
       "    <tr>\n",
       "      <th>3</th>\n",
       "      <td>2014-12-09</td>\n",
       "      <td>Winter</td>\n",
       "    </tr>\n",
       "    <tr>\n",
       "      <th>4</th>\n",
       "      <td>2015-02-18</td>\n",
       "      <td>Winter</td>\n",
       "    </tr>\n",
       "    <tr>\n",
       "      <th>...</th>\n",
       "      <td>...</td>\n",
       "      <td>...</td>\n",
       "    </tr>\n",
       "    <tr>\n",
       "      <th>21592</th>\n",
       "      <td>2014-05-21</td>\n",
       "      <td>Spring</td>\n",
       "    </tr>\n",
       "    <tr>\n",
       "      <th>21593</th>\n",
       "      <td>2015-02-23</td>\n",
       "      <td>Winter</td>\n",
       "    </tr>\n",
       "    <tr>\n",
       "      <th>21594</th>\n",
       "      <td>2014-06-23</td>\n",
       "      <td>Summer</td>\n",
       "    </tr>\n",
       "    <tr>\n",
       "      <th>21595</th>\n",
       "      <td>2015-01-16</td>\n",
       "      <td>Winter</td>\n",
       "    </tr>\n",
       "    <tr>\n",
       "      <th>21596</th>\n",
       "      <td>2014-10-15</td>\n",
       "      <td>Autumn</td>\n",
       "    </tr>\n",
       "  </tbody>\n",
       "</table>\n",
       "<p>21597 rows × 2 columns</p>\n",
       "</div>"
      ],
      "text/plain": [
       "            date  season\n",
       "0     2014-10-13  Autumn\n",
       "1     2014-12-09  Winter\n",
       "2     2015-02-25  Winter\n",
       "3     2014-12-09  Winter\n",
       "4     2015-02-18  Winter\n",
       "...          ...     ...\n",
       "21592 2014-05-21  Spring\n",
       "21593 2015-02-23  Winter\n",
       "21594 2014-06-23  Summer\n",
       "21595 2015-01-16  Winter\n",
       "21596 2014-10-15  Autumn\n",
       "\n",
       "[21597 rows x 2 columns]"
      ]
     },
     "execution_count": 82,
     "metadata": {},
     "output_type": "execute_result"
    }
   ],
   "source": [
    "# Applying the function to the 'date' column to create a 'season' column\n",
    "data['season'] = data['date'].apply(get_season)\n",
    "data[['date', 'season']]"
   ]
  },
  {
   "cell_type": "markdown",
   "metadata": {},
   "source": [
    "### Creating a boxplot of price segmented by season to view differences in price distribution by season."
   ]
  },
  {
   "cell_type": "code",
   "execution_count": 83,
   "metadata": {},
   "outputs": [
    {
     "data": {
      "image/png": "[encoded data removed]",
      "text/plain": [
       "<Figure size 432x288 with 1 Axes>"
      ]
     },
     "metadata": {
      "needs_background": "light"
     },
     "output_type": "display_data"
    }
   ],
   "source": [
    "sns.boxplot(x='season', y='price', data=data);"
   ]
  },
  {
   "cell_type": "markdown",
   "metadata": {},
   "source": [
    "### Making a timeseries plot of price over time, colored by season to see seasonal patterns."
   ]
  },
  {
   "cell_type": "code",
   "execution_count": 84,
   "metadata": {},
   "outputs": [
    {
     "data": {
      "image/png": "[encoded data removed]",
      "text/plain": [
       "<Figure size 432x288 with 1 Axes>"
      ]
     },
     "metadata": {
      "needs_background": "light"
     },
     "output_type": "display_data"
    }
   ],
   "source": [
    "data.set_index('date').groupby('season')['price'].plot();"
   ]
  },
  {
   "cell_type": "markdown",
   "metadata": {},
   "source": [
    "### Calculating summary statistics (mean, median, std dev) for price grouped by season to quantify differences."
   ]
  },
  {
   "cell_type": "code",
   "execution_count": 86,
   "metadata": {},
   "outputs": [
    {
     "data": {
      "text/html": [
       "<div>\n",
       "<style scoped>\n",
       "    .dataframe tbody tr th:only-of-type {\n",
       "        vertical-align: middle;\n",
       "    }\n",
       "\n",
       "    .dataframe tbody tr th {\n",
       "        vertical-align: top;\n",
       "    }\n",
       "\n",
       "    .dataframe thead th {\n",
       "        text-align: right;\n",
       "    }\n",
       "</style>\n",
       "<table border=\"1\" class=\"dataframe\">\n",
       "  <thead>\n",
       "    <tr style=\"text-align: right;\">\n",
       "      <th></th>\n",
       "      <th>mean</th>\n",
       "      <th>median</th>\n",
       "      <th>std</th>\n",
       "    </tr>\n",
       "    <tr>\n",
       "      <th>season</th>\n",
       "      <th></th>\n",
       "      <th></th>\n",
       "      <th></th>\n",
       "    </tr>\n",
       "  </thead>\n",
       "  <tbody>\n",
       "    <tr>\n",
       "      <th>Autumn</th>\n",
       "      <td>531276.474881</td>\n",
       "      <td>443725.0</td>\n",
       "      <td>378513.665722</td>\n",
       "    </tr>\n",
       "    <tr>\n",
       "      <th>Spring</th>\n",
       "      <td>552782.763271</td>\n",
       "      <td>465000.0</td>\n",
       "      <td>367075.050556</td>\n",
       "    </tr>\n",
       "    <tr>\n",
       "      <th>Summer</th>\n",
       "      <td>546719.464286</td>\n",
       "      <td>455000.0</td>\n",
       "      <td>368925.606702</td>\n",
       "    </tr>\n",
       "    <tr>\n",
       "      <th>Winter</th>\n",
       "      <td>519613.645467</td>\n",
       "      <td>430000.0</td>\n",
       "      <td>348171.543129</td>\n",
       "    </tr>\n",
       "  </tbody>\n",
       "</table>\n",
       "</div>"
      ],
      "text/plain": [
       "                 mean    median            std\n",
       "season                                        \n",
       "Autumn  531276.474881  443725.0  378513.665722\n",
       "Spring  552782.763271  465000.0  367075.050556\n",
       "Summer  546719.464286  455000.0  368925.606702\n",
       "Winter  519613.645467  430000.0  348171.543129"
      ]
     },
     "execution_count": 86,
     "metadata": {},
     "output_type": "execute_result"
    }
   ],
   "source": [
    "data.groupby('season')['price'].agg([np.mean, np.median, np.std])"
   ]
  },
  {
   "cell_type": "code",
   "execution_count": 87,
   "metadata": {},
   "outputs": [
    {
     "name": "stdout",
     "output_type": "stream",
     "text": [
      "8.082642416374668 2.2312373653979034e-05\n",
      "We reject the null hypothesis\n",
      "There is a statistically significant difference in price by season\n"
     ]
    }
   ],
   "source": [
    "# Extract price by season into separate dataframes \n",
    "spring = data[data['season'] == 'Spring']['price']\n",
    "summer = data[data['season'] == 'Summer']['price'] \n",
    "fall = data[data['season'] == 'Autumn']['price']\n",
    "winter = data[data['season'] == 'Winter']['price']\n",
    "\n",
    "# Perform ANOVA test\n",
    "f_val, p_val = stats.f_oneway(spring, summer, fall, winter)  \n",
    "\n",
    "print(f_val, p_val)\n",
    "\n",
    "# Interpret results\n",
    "alpha = 0.05\n",
    "if p_val < alpha:\n",
    "  print(\"We reject the null hypothesis\")\n",
    "  print(\"There is a statistically significant difference in price by season\")  \n",
    "else:\n",
    "  print(\"We fail to reject the null hypothesis\")\n",
    "  print(\"There is no statistically significant difference in price by season\")"
   ]
  },
  {
   "cell_type": "markdown",
   "metadata": {},
   "source": [
    "In this case; these are the hypotheses.\n",
    "\n",
    "Null hypothesis:\n",
    "\n",
    "There is no difference in the mean price across the seasons. The season has no effect on price.\n",
    "\n",
    "H0: μspring = μsummer = μfall = μwinter\n",
    "\n",
    "Alternative hypothesis:\n",
    "\n",
    "There is a difference in mean price for at least one season compared to the others. The season has an effect on price.\n",
    "\n",
    "H1: At least one μ season ≠ μ other seasons\n",
    "\n",
    "Where μseason is the population mean price for that season.\n",
    "\n",
    "So in summary: Null hypothesis (H0): The seasons all have an equal effect on mean price (no difference). Alternative hypothesis (H1): At least two seasons have a statistically significant difference in their effect on mean price. If we reject H0 based on a small ANOVA p-value, we would conclude there is a significant difference in price by season. Failing to reject H0 means we cannot say there is a seasonal effect."
   ]
  },
  {
   "cell_type": "markdown",
   "metadata": {},
   "source": [
    "## Linear Regression\n",
    "Since we now have a better understanding of the correlation between our target(\"price\") and our features(\"independent variables\"), we  proceed to building regression models to further understand the magnitude our features have on price and predict whether this model can give us accurate house prices when fitted with the said features. We will explore a few features from our data set which we have investigated and come to a conclusion that they have a significance on our target.Steps involved here are as follows;\n",
    "1. Feature Selection\n",
    "2. Model Selection\n",
    "3. Model training\n",
    "4. Model evaluation\n",
    "5. Model interpretation\n",
    "6. Model validation and testing\n",
    "7. **feature engineering"
   ]
  },
  {
   "cell_type": "markdown",
   "metadata": {},
   "source": [
    "## 1.Feature selection\n",
    "Here we just choose the endogenous and exogenous variables. First we will select for the baseline model then after we shall select the rest of the features for our multiple linear regression model"
   ]
  },
  {
   "cell_type": "code",
   "execution_count": 22,
   "metadata": {},
   "outputs": [],
   "source": [
    "y= data[\"price\"]\n",
    "X = data[\"sqft_living\"]"
   ]
  },
  {
   "cell_type": "markdown",
   "metadata": {},
   "source": [
    "# 2. Building a baseline model\n",
    "Creating  a baseline model for our regression  model"
   ]
  },
  {
   "cell_type": "markdown",
   "metadata": {},
   "source": [
    "#### Distribution of our target(price)"
   ]
  },
  {
   "cell_type": "markdown",
   "metadata": {},
   "source": [
    "We shall visualize the price column in order to understand the distribution "
   ]
  },
  {
   "cell_type": "code",
   "execution_count": 23,
   "metadata": {},
   "outputs": [
    {
     "data": {
      "image/png": "[encoded data removed]",
      "text/plain": [
       "<Figure size 432x288 with 1 Axes>"
      ]
     },
     "metadata": {
      "needs_background": "light"
     },
     "output_type": "display_data"
    }
   ],
   "source": [
    "sns.histplot(data[\"price\"], color=\"maroon\", kde=True)\n",
    "plt.show();"
   ]
  },
  {
   "cell_type": "markdown",
   "metadata": {},
   "source": [
    "The distribution of our data seems to a have a longer right tail than the left tail. This indicates a positive skewness in our target meaning the mean is greater than the median."
   ]
  },
  {
   "cell_type": "markdown",
   "metadata": {},
   "source": [
    "### Splitting our data into train and test sets"
   ]
  },
  {
   "cell_type": "markdown",
   "metadata": {},
   "source": [
    "First we split the data into test set and  training set. We will use the \"train_test_split\" function  from scikit-learn library to split our data. "
   ]
  },
  {
   "cell_type": "code",
   "execution_count": 24,
   "metadata": {},
   "outputs": [],
   "source": [
    "#importing scikit-learn library\n",
    "from sklearn.model_selection import train_test_split\n",
    "\n",
    "#splitting data into test and train test\n",
    "X_train, X_test, y_train, y_test = train_test_split(X, y, test_size=0.2, random_state=0)"
   ]
  },
  {
   "cell_type": "markdown",
   "metadata": {},
   "source": [
    "In the train_test_split function we have is used above, we have split 80% of the data into training set and 20% of the data into test set."
   ]
  },
  {
   "cell_type": "markdown",
   "metadata": {},
   "source": [
    "In the next cell we are going to build a baseline model using the y_train and x_train variables. To do that we import statsmodels library which is a powerful library for statistical modelling and is similar to the sci-kit learn module"
   ]
  },
  {
   "cell_type": "code",
   "execution_count": 25,
   "metadata": {},
   "outputs": [],
   "source": [
    "#importing statsmodels\n",
    "import statsmodels.api as sm"
   ]
  },
  {
   "cell_type": "code",
   "execution_count": 26,
   "metadata": {},
   "outputs": [
    {
     "data": {
      "text/html": [
       "<table class=\"simpletable\">\n",
       "<caption>OLS Regression Results</caption>\n",
       "<tr>\n",
       "  <th>Dep. Variable:</th>          <td>price</td>      <th>  R-squared:         </th>  <td>   0.495</td>  \n",
       "</tr>\n",
       "<tr>\n",
       "  <th>Model:</th>                   <td>OLS</td>       <th>  Adj. R-squared:    </th>  <td>   0.495</td>  \n",
       "</tr>\n",
       "<tr>\n",
       "  <th>Method:</th>             <td>Least Squares</td>  <th>  F-statistic:       </th>  <td>1.655e+04</td> \n",
       "</tr>\n",
       "<tr>\n",
       "  <th>Date:</th>             <td>Thu, 26 Oct 2023</td> <th>  Prob (F-statistic):</th>   <td>  0.00</td>   \n",
       "</tr>\n",
       "<tr>\n",
       "  <th>Time:</th>                 <td>01:44:37</td>     <th>  Log-Likelihood:    </th> <td>-2.3497e+05</td>\n",
       "</tr>\n",
       "<tr>\n",
       "  <th>No. Observations:</th>      <td> 16914</td>      <th>  AIC:               </th>  <td>4.700e+05</td> \n",
       "</tr>\n",
       "<tr>\n",
       "  <th>Df Residuals:</th>          <td> 16912</td>      <th>  BIC:               </th>  <td>4.700e+05</td> \n",
       "</tr>\n",
       "<tr>\n",
       "  <th>Df Model:</th>              <td>     1</td>      <th>                     </th>      <td> </td>     \n",
       "</tr>\n",
       "<tr>\n",
       "  <th>Covariance Type:</th>      <td>nonrobust</td>    <th>                     </th>      <td> </td>     \n",
       "</tr>\n",
       "</table>\n",
       "<table class=\"simpletable\">\n",
       "<tr>\n",
       "       <td></td>          <th>coef</th>     <th>std err</th>      <th>t</th>      <th>P>|t|</th>  <th>[0.025</th>    <th>0.975]</th>  \n",
       "</tr>\n",
       "<tr>\n",
       "  <th>const</th>       <td>-4.448e+04</td> <td> 4960.688</td> <td>   -8.966</td> <td> 0.000</td> <td>-5.42e+04</td> <td>-3.48e+04</td>\n",
       "</tr>\n",
       "<tr>\n",
       "  <th>sqft_living</th> <td>  280.1781</td> <td>    2.178</td> <td>  128.639</td> <td> 0.000</td> <td>  275.909</td> <td>  284.447</td>\n",
       "</tr>\n",
       "</table>\n",
       "<table class=\"simpletable\">\n",
       "<tr>\n",
       "  <th>Omnibus:</th>       <td>11863.674</td> <th>  Durbin-Watson:     </th>  <td>   2.008</td> \n",
       "</tr>\n",
       "<tr>\n",
       "  <th>Prob(Omnibus):</th>  <td> 0.000</td>   <th>  Jarque-Bera (JB):  </th> <td>453836.272</td>\n",
       "</tr>\n",
       "<tr>\n",
       "  <th>Skew:</th>           <td> 2.904</td>   <th>  Prob(JB):          </th>  <td>    0.00</td> \n",
       "</tr>\n",
       "<tr>\n",
       "  <th>Kurtosis:</th>       <td>27.703</td>   <th>  Cond. No.          </th>  <td>5.62e+03</td> \n",
       "</tr>\n",
       "</table><br/><br/>Notes:<br/>[1] Standard Errors assume that the covariance matrix of the errors is correctly specified.<br/>[2] The condition number is large, 5.62e+03. This might indicate that there are<br/>strong multicollinearity or other numerical problems."
      ],
      "text/plain": [
       "<class 'statsmodels.iolib.summary.Summary'>\n",
       "\"\"\"\n",
       "                            OLS Regression Results                            \n",
       "==============================================================================\n",
       "Dep. Variable:                  price   R-squared:                       0.495\n",
       "Model:                            OLS   Adj. R-squared:                  0.495\n",
       "Method:                 Least Squares   F-statistic:                 1.655e+04\n",
       "Date:                Thu, 26 Oct 2023   Prob (F-statistic):               0.00\n",
       "Time:                        01:44:37   Log-Likelihood:            -2.3497e+05\n",
       "No. Observations:               16914   AIC:                         4.700e+05\n",
       "Df Residuals:                   16912   BIC:                         4.700e+05\n",
       "Df Model:                           1                                         \n",
       "Covariance Type:            nonrobust                                         \n",
       "===============================================================================\n",
       "                  coef    std err          t      P>|t|      [0.025      0.975]\n",
       "-------------------------------------------------------------------------------\n",
       "const       -4.448e+04   4960.688     -8.966      0.000   -5.42e+04   -3.48e+04\n",
       "sqft_living   280.1781      2.178    128.639      0.000     275.909     284.447\n",
       "==============================================================================\n",
       "Omnibus:                    11863.674   Durbin-Watson:                   2.008\n",
       "Prob(Omnibus):                  0.000   Jarque-Bera (JB):           453836.272\n",
       "Skew:                           2.904   Prob(JB):                         0.00\n",
       "Kurtosis:                      27.703   Cond. No.                     5.62e+03\n",
       "==============================================================================\n",
       "\n",
       "Notes:\n",
       "[1] Standard Errors assume that the covariance matrix of the errors is correctly specified.\n",
       "[2] The condition number is large, 5.62e+03. This might indicate that there are\n",
       "strong multicollinearity or other numerical problems.\n",
       "\"\"\""
      ]
     },
     "execution_count": 26,
     "metadata": {},
     "output_type": "execute_result"
    }
   ],
   "source": [
    "#function to create models and print the summary\n",
    "model = sm.OLS(y_train, sm.add_constant(X_train))\n",
    "results = model.fit()\n",
    "results.summary()"
   ]
  },
  {
   "cell_type": "code",
   "execution_count": 27,
   "metadata": {},
   "outputs": [
    {
     "data": {
      "image/png": "[encoded data removed]",
      "text/plain": [
       "<Figure size 432x288 with 1 Axes>"
      ]
     },
     "metadata": {
      "needs_background": "light"
     },
     "output_type": "display_data"
    }
   ],
   "source": [
    "import scipy.stats as stats\n",
    "\n",
    "# Generate a Q-Q plot\n",
    "sm.qqplot(data[\"price\"], line='s', fit=True, dist=stats.norm, loc=0, scale=1)\n",
    "plt.title('Price')\n",
    "plt.show()\n"
   ]
  },
  {
   "cell_type": "markdown",
   "metadata": {},
   "source": [
    "Wonderful! We now have our baseline model and from it we can interpret its metrics\n",
    "### Interpretation"
   ]
  },
  {
   "cell_type": "markdown",
   "metadata": {},
   "source": [
    "Looking at the summary above, we can see that the regression line we found was\n",
    "\n",
    "price = sqft_living285.8630 - 4.399e+04\n",
    "\n",
    "The model is statistically significant overall, with an F-statistic p-value well below 0.05. \n",
    "The model explains about 50% of the variance in price. \n",
    "The model `const` and `sqft_living`  coefficients  are both statistically significant, with t-statistic p-values well below 0.05. \n",
    "If a house had 0 sqft of living , we would expect price to be about -43,990. \n",
    "For each increase of 1 sqft in the living , we see an associated increase in price of about 280.\n",
    " \n"
   ]
  },
  {
   "cell_type": "markdown",
   "metadata": {},
   "source": [
    "We now have our baseline model which we created using the train sets obtained from splitting our data. To analyze our model further we will predict our target(\"price\") using the trained model then compare metrics to determine if our model is efficient or we need to adjust it. We also check if our model is under fitted or over fitted.\n",
    "To perform comparisson we will import another module from sci-kit learn "
   ]
  },
  {
   "cell_type": "code",
   "execution_count": 28,
   "metadata": {},
   "outputs": [],
   "source": [
    "#predicting the dependent varible\n",
    "X_test = sm.add_constant(X_test)\n",
    "y_pred = results.predict(X_test)\n",
    "\n",
    "#importing functions from sci-kit learn\n",
    "from sklearn.metrics import mean_absolute_error, mean_squared_error, r2_score\n",
    "\n",
    "#writing a function to calculate the metrics\n",
    "from sklearn.metrics import mean_absolute_error, mean_squared_error, r2_score\n",
    "\n",
    "def calculate_regression_metrics(y_test, y_pred):\n",
    "    metrics = {}\n",
    "\n",
    "    # Calculate Mean Absolute Error (MAE)\n",
    "    metrics['MAE'] = mean_absolute_error(y_test, y_pred)\n",
    "\n",
    "    # Calculate Mean Squared Error (MSE)\n",
    "    metrics['MSE'] = mean_squared_error(y_test, y_pred)\n",
    "\n",
    "    # Calculate R-squared (coefficient of determination)\n",
    "    metrics['R-squared'] = r2_score(y_test, y_pred)\n",
    "\n",
    "    return metrics\n"
   ]
  },
  {
   "cell_type": "code",
   "execution_count": 29,
   "metadata": {},
   "outputs": [
    {
     "name": "stdout",
     "output_type": "stream",
     "text": [
      "{'MAE': 177033.87791345723, 'MSE': 70202650031.35713, 'R-squared': 0.48779757847019767}\n"
     ]
    }
   ],
   "source": [
    "metrics = calculate_regression_metrics(y_test, y_pred)\n",
    "print(metrics)"
   ]
  },
  {
   "cell_type": "markdown",
   "metadata": {},
   "source": [
    "### Comparison of our baseline model against the prediction model"
   ]
  },
  {
   "cell_type": "markdown",
   "metadata": {},
   "source": [
    "## R-squared"
   ]
  },
  {
   "cell_type": "markdown",
   "metadata": {},
   "source": [
    "Comparing the r-squared values from the test model  and and the prediction model we can note a difference. Our train model has a R-squared value of almost 50% while our test model has a value of almost 48%. This means our baseline model is good ..."
   ]
  },
  {
   "cell_type": "markdown",
   "metadata": {},
   "source": [
    "## Residuals"
   ]
  },
  {
   "cell_type": "markdown",
   "metadata": {},
   "source": [
    "\n",
    "Residuals are the difference between the true values and the values predicted by our model. We visualize to understand the distribution and also check if it meets the assumption of linearity; that is normal distribution"
   ]
  },
  {
   "cell_type": "code",
   "execution_count": 30,
   "metadata": {},
   "outputs": [
    {
     "data": {
      "image/png": "[encoded data removed]",
      "text/plain": [
       "<Figure size 432x288 with 1 Axes>"
      ]
     },
     "metadata": {
      "needs_background": "light"
     },
     "output_type": "display_data"
    }
   ],
   "source": [
    "# Generate a Q-Q plot\n",
    "sm.qqplot(results.resid, line='s', fit=True, dist=stats.norm, loc=0, scale=1)\n",
    "plt.title('Q-Q Plot of Target Variable')\n",
    "plt.show()\n"
   ]
  },
  {
   "cell_type": "code",
   "execution_count": 31,
   "metadata": {},
   "outputs": [
    {
     "data": {
      "image/png": "[encoded data removed]",
      "text/plain": [
       "<Figure size 432x288 with 1 Axes>"
      ]
     },
     "metadata": {
      "needs_background": "light"
     },
     "output_type": "display_data"
    }
   ],
   "source": [
    "#ploting histogram to show residuals distribution\n",
    "sns.histplot(results.resid, bins = \"auto\", kde = True)\n",
    "plt.title(\"Residual distribtution\")\n",
    "plt.show();"
   ]
  },
  {
   "cell_type": "markdown",
   "metadata": {},
   "source": [
    "From the above plot we can see that our baseline model residuals do not have a normal distribution. This violates one of the linearity assumptions of linear regression. Linear models make key assumptions one of which is that the errors or residuals follow a normal distribution. The normality assumption is essential for valid statistical inferences and hypothesis testing. Non-normal residuals can lead to biased parameter estimates, incorrect p-values, and unreliable confidence intervals."
   ]
  },
  {
   "cell_type": "markdown",
   "metadata": {},
   "source": [
    "## Target transformation"
   ]
  },
  {
   "cell_type": "markdown",
   "metadata": {},
   "source": [
    "The non-normal distribution shown by the residuals can be accounted for by the skewness of our target. Transforming the target variable can be an effective approach to make the data more closely approximate a normal distribution. By transforming the target variable, you aim to reduce skewness and make the data more symmetric, thus bringing it closer to a normal distribution.\n",
    "This, in turn, helps the residuals conform more closely to the normality assumption, which is crucial for the validity of the model. We shall log transform our target and see if our residuals will follow a normal distribution."
   ]
  },
  {
   "cell_type": "code",
   "execution_count": 32,
   "metadata": {},
   "outputs": [
    {
     "data": {
      "image/png": "[encoded data removed]",
      "text/plain": [
       "<Figure size 432x288 with 1 Axes>"
      ]
     },
     "metadata": {
      "needs_background": "light"
     },
     "output_type": "display_data"
    }
   ],
   "source": [
    "#importing numpy\n",
    "import numpy as np\n",
    "#log transforming the target\n",
    "y_log = np.log(data[\"price\"])\n",
    "# visualizing to see its distribution\n",
    "sns.histplot(y_log, bins = \"auto\", kde = True)\n",
    "plt.title(\"price_log  distribtution\")\n",
    "plt.show();"
   ]
  },
  {
   "cell_type": "markdown",
   "metadata": {},
   "source": [
    "Wonderful! Our target after transformation seems to follow an almost normal distribution. Next we create a model for the transformed target, then we shall visualize the residuals once again to see  their distribution. We will also check if it improves our model or not."
   ]
  },
  {
   "cell_type": "markdown",
   "metadata": {},
   "source": [
    "### Log transformed target model"
   ]
  },
  {
   "cell_type": "code",
   "execution_count": 33,
   "metadata": {},
   "outputs": [
    {
     "data": {
      "image/png": "[encoded data removed]",
      "text/plain": [
       "<Figure size 432x288 with 1 Axes>"
      ]
     },
     "metadata": {
      "needs_background": "light"
     },
     "output_type": "display_data"
    }
   ],
   "source": [
    "# Generate a Q-Q plot\n",
    "sm.qqplot(y_log, line='s', fit=True, dist=stats.norm, loc=0, scale=1)\n",
    "plt.title('Q-Q Plot of Target Variable')\n",
    "plt.show()\n"
   ]
  },
  {
   "cell_type": "code",
   "execution_count": 34,
   "metadata": {},
   "outputs": [
    {
     "data": {
      "text/html": [
       "<table class=\"simpletable\">\n",
       "<caption>OLS Regression Results</caption>\n",
       "<tr>\n",
       "  <th>Dep. Variable:</th>          <td>price</td>      <th>  R-squared:         </th> <td>   0.484</td> \n",
       "</tr>\n",
       "<tr>\n",
       "  <th>Model:</th>                   <td>OLS</td>       <th>  Adj. R-squared:    </th> <td>   0.484</td> \n",
       "</tr>\n",
       "<tr>\n",
       "  <th>Method:</th>             <td>Least Squares</td>  <th>  F-statistic:       </th> <td>1.586e+04</td>\n",
       "</tr>\n",
       "<tr>\n",
       "  <th>Date:</th>             <td>Thu, 26 Oct 2023</td> <th>  Prob (F-statistic):</th>  <td>  0.00</td>  \n",
       "</tr>\n",
       "<tr>\n",
       "  <th>Time:</th>                 <td>01:45:00</td>     <th>  Log-Likelihood:    </th> <td> -7525.5</td> \n",
       "</tr>\n",
       "<tr>\n",
       "  <th>No. Observations:</th>      <td> 16914</td>      <th>  AIC:               </th> <td>1.506e+04</td>\n",
       "</tr>\n",
       "<tr>\n",
       "  <th>Df Residuals:</th>          <td> 16912</td>      <th>  BIC:               </th> <td>1.507e+04</td>\n",
       "</tr>\n",
       "<tr>\n",
       "  <th>Df Model:</th>              <td>     1</td>      <th>                     </th>     <td> </td>    \n",
       "</tr>\n",
       "<tr>\n",
       "  <th>Covariance Type:</th>      <td>nonrobust</td>    <th>                     </th>     <td> </td>    \n",
       "</tr>\n",
       "</table>\n",
       "<table class=\"simpletable\">\n",
       "<tr>\n",
       "       <td></td>          <th>coef</th>     <th>std err</th>      <th>t</th>      <th>P>|t|</th>  <th>[0.025</th>    <th>0.975]</th>  \n",
       "</tr>\n",
       "<tr>\n",
       "  <th>const</th>       <td>   12.2207</td> <td>    0.007</td> <td> 1704.768</td> <td> 0.000</td> <td>   12.207</td> <td>   12.235</td>\n",
       "</tr>\n",
       "<tr>\n",
       "  <th>sqft_living</th> <td>    0.0004</td> <td> 3.15e-06</td> <td>  125.933</td> <td> 0.000</td> <td>    0.000</td> <td>    0.000</td>\n",
       "</tr>\n",
       "</table>\n",
       "<table class=\"simpletable\">\n",
       "<tr>\n",
       "  <th>Omnibus:</th>       <td> 3.650</td> <th>  Durbin-Watson:     </th> <td>   1.980</td>\n",
       "</tr>\n",
       "<tr>\n",
       "  <th>Prob(Omnibus):</th> <td> 0.161</td> <th>  Jarque-Bera (JB):  </th> <td>   3.629</td>\n",
       "</tr>\n",
       "<tr>\n",
       "  <th>Skew:</th>          <td> 0.035</td> <th>  Prob(JB):          </th> <td>   0.163</td>\n",
       "</tr>\n",
       "<tr>\n",
       "  <th>Kurtosis:</th>      <td> 3.015</td> <th>  Cond. No.          </th> <td>5.62e+03</td>\n",
       "</tr>\n",
       "</table><br/><br/>Notes:<br/>[1] Standard Errors assume that the covariance matrix of the errors is correctly specified.<br/>[2] The condition number is large, 5.62e+03. This might indicate that there are<br/>strong multicollinearity or other numerical problems."
      ],
      "text/plain": [
       "<class 'statsmodels.iolib.summary.Summary'>\n",
       "\"\"\"\n",
       "                            OLS Regression Results                            \n",
       "==============================================================================\n",
       "Dep. Variable:                  price   R-squared:                       0.484\n",
       "Model:                            OLS   Adj. R-squared:                  0.484\n",
       "Method:                 Least Squares   F-statistic:                 1.586e+04\n",
       "Date:                Thu, 26 Oct 2023   Prob (F-statistic):               0.00\n",
       "Time:                        01:45:00   Log-Likelihood:                -7525.5\n",
       "No. Observations:               16914   AIC:                         1.506e+04\n",
       "Df Residuals:                   16912   BIC:                         1.507e+04\n",
       "Df Model:                           1                                         \n",
       "Covariance Type:            nonrobust                                         \n",
       "===============================================================================\n",
       "                  coef    std err          t      P>|t|      [0.025      0.975]\n",
       "-------------------------------------------------------------------------------\n",
       "const          12.2207      0.007   1704.768      0.000      12.207      12.235\n",
       "sqft_living     0.0004   3.15e-06    125.933      0.000       0.000       0.000\n",
       "==============================================================================\n",
       "Omnibus:                        3.650   Durbin-Watson:                   1.980\n",
       "Prob(Omnibus):                  0.161   Jarque-Bera (JB):                3.629\n",
       "Skew:                           0.035   Prob(JB):                        0.163\n",
       "Kurtosis:                       3.015   Cond. No.                     5.62e+03\n",
       "==============================================================================\n",
       "\n",
       "Notes:\n",
       "[1] Standard Errors assume that the covariance matrix of the errors is correctly specified.\n",
       "[2] The condition number is large, 5.62e+03. This might indicate that there are\n",
       "strong multicollinearity or other numerical problems.\n",
       "\"\"\""
      ]
     },
     "execution_count": 34,
     "metadata": {},
     "output_type": "execute_result"
    }
   ],
   "source": [
    "#splitting data into test and train test\n",
    "X_train, X_test, y_train, y_test = train_test_split(X, y_log, test_size=0.2, random_state=0)\n",
    "\n",
    "##creating a model\n",
    "log_model = sm.OLS(y_train, sm.add_constant(X_train))\n",
    "log_results = log_model.fit()\n",
    "log_results.summary()"
   ]
  },
  {
   "cell_type": "markdown",
   "metadata": {},
   "source": [
    "### prediction of our model"
   ]
  },
  {
   "cell_type": "code",
   "execution_count": 35,
   "metadata": {},
   "outputs": [
    {
     "data": {
      "text/plain": [
       "{'MAE': 536828.527684868,\n",
       " 'MSE': 352139274884.2067,\n",
       " 'R-squared': -1250053982156.927}"
      ]
     },
     "execution_count": 35,
     "metadata": {},
     "output_type": "execute_result"
    }
   ],
   "source": [
    "X_test = sm.add_constant(X_test)\n",
    "y_pred = results.predict(X_test)\n",
    "\n",
    "calculate_regression_metrics(y_test, y_pred)"
   ]
  },
  {
   "cell_type": "code",
   "execution_count": 36,
   "metadata": {},
   "outputs": [
    {
     "data": {
      "image/png": "[encoded data removed]",
      "text/plain": [
       "<Figure size 432x288 with 1 Axes>"
      ]
     },
     "metadata": {
      "needs_background": "light"
     },
     "output_type": "display_data"
    }
   ],
   "source": [
    "\n",
    "\n",
    "\n",
    "# Generate a Q-Q plot\n",
    "sm.qqplot(log_results.resid, line='s', fit=True, dist=stats.norm, loc=0, scale=1)\n",
    "plt.title('Q-Q Plot of our prediction model residuals')\n",
    "plt.show()\n",
    "\n"
   ]
  },
  {
   "cell_type": "markdown",
   "metadata": {},
   "source": [
    "## 2nd Model"
   ]
  },
  {
   "cell_type": "markdown",
   "metadata": {},
   "source": []
  },
  {
   "cell_type": "markdown",
   "metadata": {},
   "source": [
    "selecting y and X variables"
   ]
  },
  {
   "cell_type": "code",
   "execution_count": 37,
   "metadata": {},
   "outputs": [
    {
     "data": {
      "text/html": [
       "<div>\n",
       "<style scoped>\n",
       "    .dataframe tbody tr th:only-of-type {\n",
       "        vertical-align: middle;\n",
       "    }\n",
       "\n",
       "    .dataframe tbody tr th {\n",
       "        vertical-align: top;\n",
       "    }\n",
       "\n",
       "    .dataframe thead th {\n",
       "        text-align: right;\n",
       "    }\n",
       "</style>\n",
       "<table border=\"1\" class=\"dataframe\">\n",
       "  <thead>\n",
       "    <tr style=\"text-align: right;\">\n",
       "      <th></th>\n",
       "      <th>bedrooms</th>\n",
       "      <th>bathrooms</th>\n",
       "      <th>sqft_living</th>\n",
       "      <th>sqft_above</th>\n",
       "      <th>yr_built</th>\n",
       "      <th>Grade_1</th>\n",
       "      <th>view_1</th>\n",
       "      <th>waterfront_1</th>\n",
       "      <th>condition1</th>\n",
       "    </tr>\n",
       "  </thead>\n",
       "  <tbody>\n",
       "    <tr>\n",
       "      <th>0</th>\n",
       "      <td>3</td>\n",
       "      <td>1.00</td>\n",
       "      <td>1180</td>\n",
       "      <td>1180</td>\n",
       "      <td>1955</td>\n",
       "      <td>7</td>\n",
       "      <td>0</td>\n",
       "      <td>1</td>\n",
       "      <td>2</td>\n",
       "    </tr>\n",
       "    <tr>\n",
       "      <th>1</th>\n",
       "      <td>3</td>\n",
       "      <td>2.25</td>\n",
       "      <td>2570</td>\n",
       "      <td>2170</td>\n",
       "      <td>1951</td>\n",
       "      <td>7</td>\n",
       "      <td>0</td>\n",
       "      <td>1</td>\n",
       "      <td>2</td>\n",
       "    </tr>\n",
       "    <tr>\n",
       "      <th>2</th>\n",
       "      <td>2</td>\n",
       "      <td>1.00</td>\n",
       "      <td>770</td>\n",
       "      <td>770</td>\n",
       "      <td>1933</td>\n",
       "      <td>6</td>\n",
       "      <td>0</td>\n",
       "      <td>1</td>\n",
       "      <td>2</td>\n",
       "    </tr>\n",
       "    <tr>\n",
       "      <th>3</th>\n",
       "      <td>4</td>\n",
       "      <td>3.00</td>\n",
       "      <td>1960</td>\n",
       "      <td>1050</td>\n",
       "      <td>1965</td>\n",
       "      <td>7</td>\n",
       "      <td>0</td>\n",
       "      <td>1</td>\n",
       "      <td>4</td>\n",
       "    </tr>\n",
       "    <tr>\n",
       "      <th>4</th>\n",
       "      <td>3</td>\n",
       "      <td>2.00</td>\n",
       "      <td>1680</td>\n",
       "      <td>1680</td>\n",
       "      <td>1987</td>\n",
       "      <td>8</td>\n",
       "      <td>0</td>\n",
       "      <td>1</td>\n",
       "      <td>2</td>\n",
       "    </tr>\n",
       "    <tr>\n",
       "      <th>...</th>\n",
       "      <td>...</td>\n",
       "      <td>...</td>\n",
       "      <td>...</td>\n",
       "      <td>...</td>\n",
       "      <td>...</td>\n",
       "      <td>...</td>\n",
       "      <td>...</td>\n",
       "      <td>...</td>\n",
       "      <td>...</td>\n",
       "    </tr>\n",
       "    <tr>\n",
       "      <th>21592</th>\n",
       "      <td>3</td>\n",
       "      <td>2.50</td>\n",
       "      <td>1530</td>\n",
       "      <td>1530</td>\n",
       "      <td>2009</td>\n",
       "      <td>8</td>\n",
       "      <td>0</td>\n",
       "      <td>1</td>\n",
       "      <td>2</td>\n",
       "    </tr>\n",
       "    <tr>\n",
       "      <th>21593</th>\n",
       "      <td>4</td>\n",
       "      <td>2.50</td>\n",
       "      <td>2310</td>\n",
       "      <td>2310</td>\n",
       "      <td>2014</td>\n",
       "      <td>8</td>\n",
       "      <td>0</td>\n",
       "      <td>1</td>\n",
       "      <td>2</td>\n",
       "    </tr>\n",
       "    <tr>\n",
       "      <th>21594</th>\n",
       "      <td>2</td>\n",
       "      <td>0.75</td>\n",
       "      <td>1020</td>\n",
       "      <td>1020</td>\n",
       "      <td>2009</td>\n",
       "      <td>7</td>\n",
       "      <td>0</td>\n",
       "      <td>1</td>\n",
       "      <td>2</td>\n",
       "    </tr>\n",
       "    <tr>\n",
       "      <th>21595</th>\n",
       "      <td>3</td>\n",
       "      <td>2.50</td>\n",
       "      <td>1600</td>\n",
       "      <td>1600</td>\n",
       "      <td>2004</td>\n",
       "      <td>8</td>\n",
       "      <td>0</td>\n",
       "      <td>1</td>\n",
       "      <td>2</td>\n",
       "    </tr>\n",
       "    <tr>\n",
       "      <th>21596</th>\n",
       "      <td>2</td>\n",
       "      <td>0.75</td>\n",
       "      <td>1020</td>\n",
       "      <td>1020</td>\n",
       "      <td>2008</td>\n",
       "      <td>7</td>\n",
       "      <td>0</td>\n",
       "      <td>1</td>\n",
       "      <td>2</td>\n",
       "    </tr>\n",
       "  </tbody>\n",
       "</table>\n",
       "<p>21143 rows × 9 columns</p>\n",
       "</div>"
      ],
      "text/plain": [
       "       bedrooms  bathrooms  sqft_living  sqft_above  yr_built  Grade_1  \\\n",
       "0             3       1.00         1180        1180      1955        7   \n",
       "1             3       2.25         2570        2170      1951        7   \n",
       "2             2       1.00          770         770      1933        6   \n",
       "3             4       3.00         1960        1050      1965        7   \n",
       "4             3       2.00         1680        1680      1987        8   \n",
       "...         ...        ...          ...         ...       ...      ...   \n",
       "21592         3       2.50         1530        1530      2009        8   \n",
       "21593         4       2.50         2310        2310      2014        8   \n",
       "21594         2       0.75         1020        1020      2009        7   \n",
       "21595         3       2.50         1600        1600      2004        8   \n",
       "21596         2       0.75         1020        1020      2008        7   \n",
       "\n",
       "       view_1  waterfront_1  condition1  \n",
       "0           0             1           2  \n",
       "1           0             1           2  \n",
       "2           0             1           2  \n",
       "3           0             1           4  \n",
       "4           0             1           2  \n",
       "...       ...           ...         ...  \n",
       "21592       0             1           2  \n",
       "21593       0             1           2  \n",
       "21594       0             1           2  \n",
       "21595       0             1           2  \n",
       "21596       0             1           2  \n",
       "\n",
       "[21143 rows x 9 columns]"
      ]
     },
     "execution_count": 37,
     "metadata": {},
     "output_type": "execute_result"
    }
   ],
   "source": [
    "drop = data.drop(['id', 'price', 'date','sqft_lot','floors','sqft_basement',  'yr_renovated', 'zipcode',\n",
    "'lat', 'long', 'sqft_living15', 'sqft_lot15'], axis= 1)\n",
    "X_sec = drop\n",
    "y_sec= data[\"price\"]\n",
    "X_sec"
   ]
  },
  {
   "cell_type": "code",
   "execution_count": 38,
   "metadata": {},
   "outputs": [],
   "source": [
    "#importing StandardScaler from sci-kit learn\n",
    "from sklearn.preprocessing import StandardScaler\n",
    "\n",
    "ss = StandardScaler()\n",
    "\n",
    "X1_scaled = ss.fit_transform(X_sec)"
   ]
  },
  {
   "cell_type": "markdown",
   "metadata": {},
   "source": [
    "splitting data into train and test"
   ]
  },
  {
   "cell_type": "code",
   "execution_count": 39,
   "metadata": {},
   "outputs": [],
   "source": [
    "X_train, X_test, y_train, y_test = train_test_split(X1_scaled, y_sec, test_size=0.2, random_state=0)\n"
   ]
  },
  {
   "cell_type": "markdown",
   "metadata": {},
   "source": [
    "building multiple linear model"
   ]
  },
  {
   "cell_type": "code",
   "execution_count": 40,
   "metadata": {},
   "outputs": [
    {
     "data": {
      "text/html": [
       "<table class=\"simpletable\">\n",
       "<caption>OLS Regression Results</caption>\n",
       "<tr>\n",
       "  <th>Dep. Variable:</th>          <td>price</td>      <th>  R-squared:         </th>  <td>   0.650</td>  \n",
       "</tr>\n",
       "<tr>\n",
       "  <th>Model:</th>                   <td>OLS</td>       <th>  Adj. R-squared:    </th>  <td>   0.649</td>  \n",
       "</tr>\n",
       "<tr>\n",
       "  <th>Method:</th>             <td>Least Squares</td>  <th>  F-statistic:       </th>  <td>   3481.</td>  \n",
       "</tr>\n",
       "<tr>\n",
       "  <th>Date:</th>             <td>Thu, 26 Oct 2023</td> <th>  Prob (F-statistic):</th>   <td>  0.00</td>   \n",
       "</tr>\n",
       "<tr>\n",
       "  <th>Time:</th>                 <td>01:45:16</td>     <th>  Log-Likelihood:    </th> <td>-2.3188e+05</td>\n",
       "</tr>\n",
       "<tr>\n",
       "  <th>No. Observations:</th>      <td> 16914</td>      <th>  AIC:               </th>  <td>4.638e+05</td> \n",
       "</tr>\n",
       "<tr>\n",
       "  <th>Df Residuals:</th>          <td> 16904</td>      <th>  BIC:               </th>  <td>4.639e+05</td> \n",
       "</tr>\n",
       "<tr>\n",
       "  <th>Df Model:</th>              <td>     9</td>      <th>                     </th>      <td> </td>     \n",
       "</tr>\n",
       "<tr>\n",
       "  <th>Covariance Type:</th>      <td>nonrobust</td>    <th>                     </th>      <td> </td>     \n",
       "</tr>\n",
       "</table>\n",
       "<table class=\"simpletable\">\n",
       "<tr>\n",
       "    <td></td>       <th>coef</th>     <th>std err</th>      <th>t</th>      <th>P>|t|</th>  <th>[0.025</th>    <th>0.975]</th>  \n",
       "</tr>\n",
       "<tr>\n",
       "  <th>const</th> <td> 5.393e+05</td> <td> 1673.474</td> <td>  322.268</td> <td> 0.000</td> <td> 5.36e+05</td> <td> 5.43e+05</td>\n",
       "</tr>\n",
       "<tr>\n",
       "  <th>x1</th>    <td>-3.469e+04</td> <td> 2111.891</td> <td>  -16.428</td> <td> 0.000</td> <td>-3.88e+04</td> <td>-3.06e+04</td>\n",
       "</tr>\n",
       "<tr>\n",
       "  <th>x2</th>    <td> 4.268e+04</td> <td> 2889.968</td> <td>   14.767</td> <td> 0.000</td> <td>  3.7e+04</td> <td> 4.83e+04</td>\n",
       "</tr>\n",
       "<tr>\n",
       "  <th>x3</th>    <td> 1.476e+05</td> <td> 4505.256</td> <td>   32.765</td> <td> 0.000</td> <td> 1.39e+05</td> <td> 1.56e+05</td>\n",
       "</tr>\n",
       "<tr>\n",
       "  <th>x4</th>    <td> 4653.5416</td> <td> 3826.021</td> <td>    1.216</td> <td> 0.224</td> <td>-2845.858</td> <td> 1.22e+04</td>\n",
       "</tr>\n",
       "<tr>\n",
       "  <th>x5</th>    <td>-1.049e+05</td> <td> 2221.989</td> <td>  -47.216</td> <td> 0.000</td> <td>-1.09e+05</td> <td>-1.01e+05</td>\n",
       "</tr>\n",
       "<tr>\n",
       "  <th>x6</th>    <td> 1.491e+05</td> <td> 2882.270</td> <td>   51.727</td> <td> 0.000</td> <td> 1.43e+05</td> <td> 1.55e+05</td>\n",
       "</tr>\n",
       "<tr>\n",
       "  <th>x7</th>    <td> 3.188e+04</td> <td> 1950.901</td> <td>   16.339</td> <td> 0.000</td> <td> 2.81e+04</td> <td> 3.57e+04</td>\n",
       "</tr>\n",
       "<tr>\n",
       "  <th>x8</th>    <td>-5.399e+04</td> <td> 1872.819</td> <td>  -28.826</td> <td> 0.000</td> <td>-5.77e+04</td> <td>-5.03e+04</td>\n",
       "</tr>\n",
       "<tr>\n",
       "  <th>x9</th>    <td>  1.13e+04</td> <td> 1812.824</td> <td>    6.231</td> <td> 0.000</td> <td> 7742.283</td> <td> 1.48e+04</td>\n",
       "</tr>\n",
       "</table>\n",
       "<table class=\"simpletable\">\n",
       "<tr>\n",
       "  <th>Omnibus:</th>       <td>12604.697</td> <th>  Durbin-Watson:     </th>  <td>   2.006</td> \n",
       "</tr>\n",
       "<tr>\n",
       "  <th>Prob(Omnibus):</th>  <td> 0.000</td>   <th>  Jarque-Bera (JB):  </th> <td>826533.213</td>\n",
       "</tr>\n",
       "<tr>\n",
       "  <th>Skew:</th>           <td> 2.997</td>   <th>  Prob(JB):          </th>  <td>    0.00</td> \n",
       "</tr>\n",
       "<tr>\n",
       "  <th>Kurtosis:</th>       <td>36.718</td>   <th>  Cond. No.          </th>  <td>    6.64</td> \n",
       "</tr>\n",
       "</table><br/><br/>Notes:<br/>[1] Standard Errors assume that the covariance matrix of the errors is correctly specified."
      ],
      "text/plain": [
       "<class 'statsmodels.iolib.summary.Summary'>\n",
       "\"\"\"\n",
       "                            OLS Regression Results                            \n",
       "==============================================================================\n",
       "Dep. Variable:                  price   R-squared:                       0.650\n",
       "Model:                            OLS   Adj. R-squared:                  0.649\n",
       "Method:                 Least Squares   F-statistic:                     3481.\n",
       "Date:                Thu, 26 Oct 2023   Prob (F-statistic):               0.00\n",
       "Time:                        01:45:16   Log-Likelihood:            -2.3188e+05\n",
       "No. Observations:               16914   AIC:                         4.638e+05\n",
       "Df Residuals:                   16904   BIC:                         4.639e+05\n",
       "Df Model:                           9                                         \n",
       "Covariance Type:            nonrobust                                         \n",
       "==============================================================================\n",
       "                 coef    std err          t      P>|t|      [0.025      0.975]\n",
       "------------------------------------------------------------------------------\n",
       "const       5.393e+05   1673.474    322.268      0.000    5.36e+05    5.43e+05\n",
       "x1         -3.469e+04   2111.891    -16.428      0.000   -3.88e+04   -3.06e+04\n",
       "x2          4.268e+04   2889.968     14.767      0.000     3.7e+04    4.83e+04\n",
       "x3          1.476e+05   4505.256     32.765      0.000    1.39e+05    1.56e+05\n",
       "x4          4653.5416   3826.021      1.216      0.224   -2845.858    1.22e+04\n",
       "x5         -1.049e+05   2221.989    -47.216      0.000   -1.09e+05   -1.01e+05\n",
       "x6          1.491e+05   2882.270     51.727      0.000    1.43e+05    1.55e+05\n",
       "x7          3.188e+04   1950.901     16.339      0.000    2.81e+04    3.57e+04\n",
       "x8         -5.399e+04   1872.819    -28.826      0.000   -5.77e+04   -5.03e+04\n",
       "x9           1.13e+04   1812.824      6.231      0.000    7742.283    1.48e+04\n",
       "==============================================================================\n",
       "Omnibus:                    12604.697   Durbin-Watson:                   2.006\n",
       "Prob(Omnibus):                  0.000   Jarque-Bera (JB):           826533.213\n",
       "Skew:                           2.997   Prob(JB):                         0.00\n",
       "Kurtosis:                      36.718   Cond. No.                         6.64\n",
       "==============================================================================\n",
       "\n",
       "Notes:\n",
       "[1] Standard Errors assume that the covariance matrix of the errors is correctly specified.\n",
       "\"\"\""
      ]
     },
     "execution_count": 40,
     "metadata": {},
     "output_type": "execute_result"
    }
   ],
   "source": [
    "model = sm.OLS(y_train, sm.add_constant(X_train))\n",
    "results = model.fit()\n",
    "results.summary()"
   ]
  },
  {
   "cell_type": "markdown",
   "metadata": {},
   "source": [
    "test"
   ]
  },
  {
   "cell_type": "code",
   "execution_count": 41,
   "metadata": {},
   "outputs": [
    {
     "data": {
      "text/plain": [
       "{'MAE': 141592.73032447265,\n",
       " 'MSE': 46826238256.493065,\n",
       " 'R-squared': 0.6583531730583653}"
      ]
     },
     "execution_count": 41,
     "metadata": {},
     "output_type": "execute_result"
    }
   ],
   "source": [
    "X_test = sm.add_constant(X_test)\n",
    "y_pred = results.predict(X_test)\n",
    "\n",
    "calculate_regression_metrics(y_test, y_pred)\n"
   ]
  },
  {
   "cell_type": "markdown",
   "metadata": {},
   "source": [
    "metrics"
   ]
  },
  {
   "cell_type": "code",
   "execution_count": 42,
   "metadata": {},
   "outputs": [
    {
     "name": "stdout",
     "output_type": "stream",
     "text": [
      "{'MAE': 141592.73032447265, 'MSE': 46826238256.493065, 'R-squared': 0.6583531730583653}\n"
     ]
    }
   ],
   "source": [
    "metrics = calculate_regression_metrics(y_test, y_pred)\n",
    "print(metrics)"
   ]
  },
  {
   "cell_type": "code",
   "execution_count": 43,
   "metadata": {},
   "outputs": [
    {
     "data": {
      "text/html": [
       "<table class=\"simpletable\">\n",
       "<caption>OLS Regression Results</caption>\n",
       "<tr>\n",
       "  <th>Dep. Variable:</th>          <td>price</td>      <th>  R-squared:         </th>  <td>   0.650</td>  \n",
       "</tr>\n",
       "<tr>\n",
       "  <th>Model:</th>                   <td>OLS</td>       <th>  Adj. R-squared:    </th>  <td>   0.649</td>  \n",
       "</tr>\n",
       "<tr>\n",
       "  <th>Method:</th>             <td>Least Squares</td>  <th>  F-statistic:       </th>  <td>   3481.</td>  \n",
       "</tr>\n",
       "<tr>\n",
       "  <th>Date:</th>             <td>Thu, 26 Oct 2023</td> <th>  Prob (F-statistic):</th>   <td>  0.00</td>   \n",
       "</tr>\n",
       "<tr>\n",
       "  <th>Time:</th>                 <td>01:45:24</td>     <th>  Log-Likelihood:    </th> <td>-2.3188e+05</td>\n",
       "</tr>\n",
       "<tr>\n",
       "  <th>No. Observations:</th>      <td> 16914</td>      <th>  AIC:               </th>  <td>4.638e+05</td> \n",
       "</tr>\n",
       "<tr>\n",
       "  <th>Df Residuals:</th>          <td> 16904</td>      <th>  BIC:               </th>  <td>4.639e+05</td> \n",
       "</tr>\n",
       "<tr>\n",
       "  <th>Df Model:</th>              <td>     9</td>      <th>                     </th>      <td> </td>     \n",
       "</tr>\n",
       "<tr>\n",
       "  <th>Covariance Type:</th>      <td>nonrobust</td>    <th>                     </th>      <td> </td>     \n",
       "</tr>\n",
       "</table>\n",
       "<table class=\"simpletable\">\n",
       "<tr>\n",
       "    <td></td>       <th>coef</th>     <th>std err</th>      <th>t</th>      <th>P>|t|</th>  <th>[0.025</th>    <th>0.975]</th>  \n",
       "</tr>\n",
       "<tr>\n",
       "  <th>const</th> <td> 5.393e+05</td> <td> 1673.474</td> <td>  322.268</td> <td> 0.000</td> <td> 5.36e+05</td> <td> 5.43e+05</td>\n",
       "</tr>\n",
       "<tr>\n",
       "  <th>x1</th>    <td>-3.469e+04</td> <td> 2111.891</td> <td>  -16.428</td> <td> 0.000</td> <td>-3.88e+04</td> <td>-3.06e+04</td>\n",
       "</tr>\n",
       "<tr>\n",
       "  <th>x2</th>    <td> 4.268e+04</td> <td> 2889.968</td> <td>   14.767</td> <td> 0.000</td> <td>  3.7e+04</td> <td> 4.83e+04</td>\n",
       "</tr>\n",
       "<tr>\n",
       "  <th>x3</th>    <td> 1.476e+05</td> <td> 4505.256</td> <td>   32.765</td> <td> 0.000</td> <td> 1.39e+05</td> <td> 1.56e+05</td>\n",
       "</tr>\n",
       "<tr>\n",
       "  <th>x4</th>    <td> 4653.5416</td> <td> 3826.021</td> <td>    1.216</td> <td> 0.224</td> <td>-2845.858</td> <td> 1.22e+04</td>\n",
       "</tr>\n",
       "<tr>\n",
       "  <th>x5</th>    <td>-1.049e+05</td> <td> 2221.989</td> <td>  -47.216</td> <td> 0.000</td> <td>-1.09e+05</td> <td>-1.01e+05</td>\n",
       "</tr>\n",
       "<tr>\n",
       "  <th>x6</th>    <td> 1.491e+05</td> <td> 2882.270</td> <td>   51.727</td> <td> 0.000</td> <td> 1.43e+05</td> <td> 1.55e+05</td>\n",
       "</tr>\n",
       "<tr>\n",
       "  <th>x7</th>    <td> 3.188e+04</td> <td> 1950.901</td> <td>   16.339</td> <td> 0.000</td> <td> 2.81e+04</td> <td> 3.57e+04</td>\n",
       "</tr>\n",
       "<tr>\n",
       "  <th>x8</th>    <td>-5.399e+04</td> <td> 1872.819</td> <td>  -28.826</td> <td> 0.000</td> <td>-5.77e+04</td> <td>-5.03e+04</td>\n",
       "</tr>\n",
       "<tr>\n",
       "  <th>x9</th>    <td>  1.13e+04</td> <td> 1812.824</td> <td>    6.231</td> <td> 0.000</td> <td> 7742.283</td> <td> 1.48e+04</td>\n",
       "</tr>\n",
       "</table>\n",
       "<table class=\"simpletable\">\n",
       "<tr>\n",
       "  <th>Omnibus:</th>       <td>12604.697</td> <th>  Durbin-Watson:     </th>  <td>   2.006</td> \n",
       "</tr>\n",
       "<tr>\n",
       "  <th>Prob(Omnibus):</th>  <td> 0.000</td>   <th>  Jarque-Bera (JB):  </th> <td>826533.213</td>\n",
       "</tr>\n",
       "<tr>\n",
       "  <th>Skew:</th>           <td> 2.997</td>   <th>  Prob(JB):          </th>  <td>    0.00</td> \n",
       "</tr>\n",
       "<tr>\n",
       "  <th>Kurtosis:</th>       <td>36.718</td>   <th>  Cond. No.          </th>  <td>    6.64</td> \n",
       "</tr>\n",
       "</table><br/><br/>Notes:<br/>[1] Standard Errors assume that the covariance matrix of the errors is correctly specified."
      ],
      "text/plain": [
       "<class 'statsmodels.iolib.summary.Summary'>\n",
       "\"\"\"\n",
       "                            OLS Regression Results                            \n",
       "==============================================================================\n",
       "Dep. Variable:                  price   R-squared:                       0.650\n",
       "Model:                            OLS   Adj. R-squared:                  0.649\n",
       "Method:                 Least Squares   F-statistic:                     3481.\n",
       "Date:                Thu, 26 Oct 2023   Prob (F-statistic):               0.00\n",
       "Time:                        01:45:24   Log-Likelihood:            -2.3188e+05\n",
       "No. Observations:               16914   AIC:                         4.638e+05\n",
       "Df Residuals:                   16904   BIC:                         4.639e+05\n",
       "Df Model:                           9                                         \n",
       "Covariance Type:            nonrobust                                         \n",
       "==============================================================================\n",
       "                 coef    std err          t      P>|t|      [0.025      0.975]\n",
       "------------------------------------------------------------------------------\n",
       "const       5.393e+05   1673.474    322.268      0.000    5.36e+05    5.43e+05\n",
       "x1         -3.469e+04   2111.891    -16.428      0.000   -3.88e+04   -3.06e+04\n",
       "x2          4.268e+04   2889.968     14.767      0.000     3.7e+04    4.83e+04\n",
       "x3          1.476e+05   4505.256     32.765      0.000    1.39e+05    1.56e+05\n",
       "x4          4653.5416   3826.021      1.216      0.224   -2845.858    1.22e+04\n",
       "x5         -1.049e+05   2221.989    -47.216      0.000   -1.09e+05   -1.01e+05\n",
       "x6          1.491e+05   2882.270     51.727      0.000    1.43e+05    1.55e+05\n",
       "x7          3.188e+04   1950.901     16.339      0.000    2.81e+04    3.57e+04\n",
       "x8         -5.399e+04   1872.819    -28.826      0.000   -5.77e+04   -5.03e+04\n",
       "x9           1.13e+04   1812.824      6.231      0.000    7742.283    1.48e+04\n",
       "==============================================================================\n",
       "Omnibus:                    12604.697   Durbin-Watson:                   2.006\n",
       "Prob(Omnibus):                  0.000   Jarque-Bera (JB):           826533.213\n",
       "Skew:                           2.997   Prob(JB):                         0.00\n",
       "Kurtosis:                      36.718   Cond. No.                         6.64\n",
       "==============================================================================\n",
       "\n",
       "Notes:\n",
       "[1] Standard Errors assume that the covariance matrix of the errors is correctly specified.\n",
       "\"\"\""
      ]
     },
     "execution_count": 43,
     "metadata": {},
     "output_type": "execute_result"
    }
   ],
   "source": [
    "#building the model\n",
    "model = sm.OLS(y_train, sm.add_constant(X_train))\n",
    "results = model.fit()\n",
    "results.summary()"
   ]
  },
  {
   "cell_type": "markdown",
   "metadata": {},
   "source": [
    "Y predict"
   ]
  },
  {
   "cell_type": "code",
   "execution_count": 44,
   "metadata": {},
   "outputs": [
    {
     "data": {
      "text/plain": [
       "{'MAE': 141592.73032447265,\n",
       " 'MSE': 46826238256.493065,\n",
       " 'R-squared': 0.6583531730583653}"
      ]
     },
     "execution_count": 44,
     "metadata": {},
     "output_type": "execute_result"
    }
   ],
   "source": [
    "X_test = sm.add_constant(X_test)\n",
    "y_pred = results.predict(X_test)\n",
    "\n",
    "calculate_regression_metrics(y_test, y_pred)"
   ]
  },
  {
   "cell_type": "code",
   "execution_count": 45,
   "metadata": {},
   "outputs": [
    {
     "data": {
      "text/plain": [
       "waterfront_1    -0.265969\n",
       "zipcode         -0.053166\n",
       "id              -0.015796\n",
       "long             0.022101\n",
       "condition1       0.035290\n",
       "yr_built         0.054459\n",
       "sqft_lot15       0.083192\n",
       "sqft_lot         0.087937\n",
       "yr_renovated     0.128227\n",
       "floors           0.256355\n",
       "lat              0.306507\n",
       "bedrooms         0.309204\n",
       "view_1           0.394885\n",
       "bathrooms        0.525889\n",
       "sqft_living15    0.586415\n",
       "sqft_above       0.605143\n",
       "Grade_1          0.667738\n",
       "sqft_living      0.702328\n",
       "price            1.000000\n",
       "Name: price, dtype: float64"
      ]
     },
     "execution_count": 45,
     "metadata": {},
     "output_type": "execute_result"
    }
   ],
   "source": [
    "correlation(X_sec).sort_values()"
   ]
  },
  {
   "cell_type": "markdown",
   "metadata": {},
   "source": [
    "## 3. Polynomial  Transformation of  features"
   ]
  },
  {
   "cell_type": "markdown",
   "metadata": {},
   "source": [
    "We will use polynomial transformation to see if our model will improve or not."
   ]
  },
  {
   "cell_type": "code",
   "execution_count": 46,
   "metadata": {},
   "outputs": [
    {
     "data": {
      "text/html": [
       "<div>\n",
       "<style scoped>\n",
       "    .dataframe tbody tr th:only-of-type {\n",
       "        vertical-align: middle;\n",
       "    }\n",
       "\n",
       "    .dataframe tbody tr th {\n",
       "        vertical-align: top;\n",
       "    }\n",
       "\n",
       "    .dataframe thead th {\n",
       "        text-align: right;\n",
       "    }\n",
       "</style>\n",
       "<table border=\"1\" class=\"dataframe\">\n",
       "  <thead>\n",
       "    <tr style=\"text-align: right;\">\n",
       "      <th></th>\n",
       "      <th>bedrooms</th>\n",
       "      <th>bathrooms</th>\n",
       "      <th>sqft_living</th>\n",
       "      <th>sqft_above</th>\n",
       "      <th>yr_built</th>\n",
       "      <th>Grade_1</th>\n",
       "      <th>view_1</th>\n",
       "      <th>waterfront_1</th>\n",
       "      <th>condition1</th>\n",
       "    </tr>\n",
       "  </thead>\n",
       "  <tbody>\n",
       "    <tr>\n",
       "      <th>0</th>\n",
       "      <td>3</td>\n",
       "      <td>1.00</td>\n",
       "      <td>1180</td>\n",
       "      <td>1180</td>\n",
       "      <td>1955</td>\n",
       "      <td>7</td>\n",
       "      <td>0</td>\n",
       "      <td>1</td>\n",
       "      <td>2</td>\n",
       "    </tr>\n",
       "    <tr>\n",
       "      <th>1</th>\n",
       "      <td>3</td>\n",
       "      <td>2.25</td>\n",
       "      <td>2570</td>\n",
       "      <td>2170</td>\n",
       "      <td>1951</td>\n",
       "      <td>7</td>\n",
       "      <td>0</td>\n",
       "      <td>1</td>\n",
       "      <td>2</td>\n",
       "    </tr>\n",
       "    <tr>\n",
       "      <th>2</th>\n",
       "      <td>2</td>\n",
       "      <td>1.00</td>\n",
       "      <td>770</td>\n",
       "      <td>770</td>\n",
       "      <td>1933</td>\n",
       "      <td>6</td>\n",
       "      <td>0</td>\n",
       "      <td>1</td>\n",
       "      <td>2</td>\n",
       "    </tr>\n",
       "    <tr>\n",
       "      <th>3</th>\n",
       "      <td>4</td>\n",
       "      <td>3.00</td>\n",
       "      <td>1960</td>\n",
       "      <td>1050</td>\n",
       "      <td>1965</td>\n",
       "      <td>7</td>\n",
       "      <td>0</td>\n",
       "      <td>1</td>\n",
       "      <td>4</td>\n",
       "    </tr>\n",
       "    <tr>\n",
       "      <th>4</th>\n",
       "      <td>3</td>\n",
       "      <td>2.00</td>\n",
       "      <td>1680</td>\n",
       "      <td>1680</td>\n",
       "      <td>1987</td>\n",
       "      <td>8</td>\n",
       "      <td>0</td>\n",
       "      <td>1</td>\n",
       "      <td>2</td>\n",
       "    </tr>\n",
       "    <tr>\n",
       "      <th>...</th>\n",
       "      <td>...</td>\n",
       "      <td>...</td>\n",
       "      <td>...</td>\n",
       "      <td>...</td>\n",
       "      <td>...</td>\n",
       "      <td>...</td>\n",
       "      <td>...</td>\n",
       "      <td>...</td>\n",
       "      <td>...</td>\n",
       "    </tr>\n",
       "    <tr>\n",
       "      <th>21592</th>\n",
       "      <td>3</td>\n",
       "      <td>2.50</td>\n",
       "      <td>1530</td>\n",
       "      <td>1530</td>\n",
       "      <td>2009</td>\n",
       "      <td>8</td>\n",
       "      <td>0</td>\n",
       "      <td>1</td>\n",
       "      <td>2</td>\n",
       "    </tr>\n",
       "    <tr>\n",
       "      <th>21593</th>\n",
       "      <td>4</td>\n",
       "      <td>2.50</td>\n",
       "      <td>2310</td>\n",
       "      <td>2310</td>\n",
       "      <td>2014</td>\n",
       "      <td>8</td>\n",
       "      <td>0</td>\n",
       "      <td>1</td>\n",
       "      <td>2</td>\n",
       "    </tr>\n",
       "    <tr>\n",
       "      <th>21594</th>\n",
       "      <td>2</td>\n",
       "      <td>0.75</td>\n",
       "      <td>1020</td>\n",
       "      <td>1020</td>\n",
       "      <td>2009</td>\n",
       "      <td>7</td>\n",
       "      <td>0</td>\n",
       "      <td>1</td>\n",
       "      <td>2</td>\n",
       "    </tr>\n",
       "    <tr>\n",
       "      <th>21595</th>\n",
       "      <td>3</td>\n",
       "      <td>2.50</td>\n",
       "      <td>1600</td>\n",
       "      <td>1600</td>\n",
       "      <td>2004</td>\n",
       "      <td>8</td>\n",
       "      <td>0</td>\n",
       "      <td>1</td>\n",
       "      <td>2</td>\n",
       "    </tr>\n",
       "    <tr>\n",
       "      <th>21596</th>\n",
       "      <td>2</td>\n",
       "      <td>0.75</td>\n",
       "      <td>1020</td>\n",
       "      <td>1020</td>\n",
       "      <td>2008</td>\n",
       "      <td>7</td>\n",
       "      <td>0</td>\n",
       "      <td>1</td>\n",
       "      <td>2</td>\n",
       "    </tr>\n",
       "  </tbody>\n",
       "</table>\n",
       "<p>21143 rows × 9 columns</p>\n",
       "</div>"
      ],
      "text/plain": [
       "       bedrooms  bathrooms  sqft_living  sqft_above  yr_built  Grade_1  \\\n",
       "0             3       1.00         1180        1180      1955        7   \n",
       "1             3       2.25         2570        2170      1951        7   \n",
       "2             2       1.00          770         770      1933        6   \n",
       "3             4       3.00         1960        1050      1965        7   \n",
       "4             3       2.00         1680        1680      1987        8   \n",
       "...         ...        ...          ...         ...       ...      ...   \n",
       "21592         3       2.50         1530        1530      2009        8   \n",
       "21593         4       2.50         2310        2310      2014        8   \n",
       "21594         2       0.75         1020        1020      2009        7   \n",
       "21595         3       2.50         1600        1600      2004        8   \n",
       "21596         2       0.75         1020        1020      2008        7   \n",
       "\n",
       "       view_1  waterfront_1  condition1  \n",
       "0           0             1           2  \n",
       "1           0             1           2  \n",
       "2           0             1           2  \n",
       "3           0             1           4  \n",
       "4           0             1           2  \n",
       "...       ...           ...         ...  \n",
       "21592       0             1           2  \n",
       "21593       0             1           2  \n",
       "21594       0             1           2  \n",
       "21595       0             1           2  \n",
       "21596       0             1           2  \n",
       "\n",
       "[21143 rows x 9 columns]"
      ]
     },
     "execution_count": 46,
     "metadata": {},
     "output_type": "execute_result"
    }
   ],
   "source": [
    "# Polynomial transforming\n",
    "y_pol= data[\"price\"]\n",
    "X_pol = X_sec\n",
    "X_pol"
   ]
  },
  {
   "cell_type": "markdown",
   "metadata": {},
   "source": [
    "starndadizing our data"
   ]
  },
  {
   "cell_type": "code",
   "execution_count": 47,
   "metadata": {},
   "outputs": [],
   "source": [
    "ss = StandardScaler()\n",
    "\n",
    "X1_scaled = ss.fit_transform(X_pol)"
   ]
  },
  {
   "cell_type": "markdown",
   "metadata": {},
   "source": [
    "splitting the data"
   ]
  },
  {
   "cell_type": "code",
   "execution_count": 48,
   "metadata": {},
   "outputs": [],
   "source": [
    "X_train, X_test, y_train, y_test = train_test_split(X1_scaled, y_sec, test_size=0.2, random_state=0)\n"
   ]
  },
  {
   "cell_type": "markdown",
   "metadata": {},
   "source": [
    "Building the model"
   ]
  },
  {
   "cell_type": "code",
   "execution_count": 50,
   "metadata": {},
   "outputs": [
    {
     "data": {
      "text/html": [
       "<table class=\"simpletable\">\n",
       "<caption>OLS Regression Results</caption>\n",
       "<tr>\n",
       "  <th>Dep. Variable:</th>          <td>price</td>      <th>  R-squared:         </th>  <td>   0.719</td>  \n",
       "</tr>\n",
       "<tr>\n",
       "  <th>Model:</th>                   <td>OLS</td>       <th>  Adj. R-squared:    </th>  <td>   0.719</td>  \n",
       "</tr>\n",
       "<tr>\n",
       "  <th>Method:</th>             <td>Least Squares</td>  <th>  F-statistic:       </th>  <td>   815.8</td>  \n",
       "</tr>\n",
       "<tr>\n",
       "  <th>Date:</th>             <td>Thu, 26 Oct 2023</td> <th>  Prob (F-statistic):</th>   <td>  0.00</td>   \n",
       "</tr>\n",
       "<tr>\n",
       "  <th>Time:</th>                 <td>01:46:05</td>     <th>  Log-Likelihood:    </th> <td>-2.3000e+05</td>\n",
       "</tr>\n",
       "<tr>\n",
       "  <th>No. Observations:</th>      <td> 16914</td>      <th>  AIC:               </th>  <td>4.601e+05</td> \n",
       "</tr>\n",
       "<tr>\n",
       "  <th>Df Residuals:</th>          <td> 16860</td>      <th>  BIC:               </th>  <td>4.605e+05</td> \n",
       "</tr>\n",
       "<tr>\n",
       "  <th>Df Model:</th>              <td>    53</td>      <th>                     </th>      <td> </td>     \n",
       "</tr>\n",
       "<tr>\n",
       "  <th>Covariance Type:</th>      <td>nonrobust</td>    <th>                     </th>      <td> </td>     \n",
       "</tr>\n",
       "</table>\n",
       "<table class=\"simpletable\">\n",
       "<tr>\n",
       "   <td></td>      <th>coef</th>     <th>std err</th>      <th>t</th>      <th>P>|t|</th>  <th>[0.025</th>    <th>0.975]</th>  \n",
       "</tr>\n",
       "<tr>\n",
       "  <th>x1</th>  <td>-1.334e+04</td> <td> 2241.953</td> <td>   -5.952</td> <td> 0.000</td> <td>-1.77e+04</td> <td>-8949.858</td>\n",
       "</tr>\n",
       "<tr>\n",
       "  <th>x2</th>  <td> 2.851e+04</td> <td> 2972.717</td> <td>    9.591</td> <td> 0.000</td> <td> 2.27e+04</td> <td> 3.43e+04</td>\n",
       "</tr>\n",
       "<tr>\n",
       "  <th>x3</th>  <td> 1.458e+05</td> <td> 5967.287</td> <td>   24.434</td> <td> 0.000</td> <td> 1.34e+05</td> <td> 1.57e+05</td>\n",
       "</tr>\n",
       "<tr>\n",
       "  <th>x4</th>  <td>-3.598e+04</td> <td> 4920.108</td> <td>   -7.312</td> <td> 0.000</td> <td>-4.56e+04</td> <td>-2.63e+04</td>\n",
       "</tr>\n",
       "<tr>\n",
       "  <th>x5</th>  <td>-7.013e+04</td> <td> 2713.742</td> <td>  -25.844</td> <td> 0.000</td> <td>-7.55e+04</td> <td>-6.48e+04</td>\n",
       "</tr>\n",
       "<tr>\n",
       "  <th>x6</th>  <td> 1.373e+05</td> <td> 2775.927</td> <td>   49.475</td> <td> 0.000</td> <td> 1.32e+05</td> <td> 1.43e+05</td>\n",
       "</tr>\n",
       "<tr>\n",
       "  <th>x7</th>  <td> 1.559e+04</td> <td> 5007.623</td> <td>    3.114</td> <td> 0.002</td> <td> 5778.958</td> <td> 2.54e+04</td>\n",
       "</tr>\n",
       "<tr>\n",
       "  <th>x8</th>  <td> 5.948e+06</td> <td> 4.21e+04</td> <td>  141.228</td> <td> 0.000</td> <td> 5.87e+06</td> <td> 6.03e+06</td>\n",
       "</tr>\n",
       "<tr>\n",
       "  <th>x9</th>  <td> 1.931e+04</td> <td> 2446.360</td> <td>    7.894</td> <td> 0.000</td> <td> 1.45e+04</td> <td> 2.41e+04</td>\n",
       "</tr>\n",
       "<tr>\n",
       "  <th>x10</th> <td>  638.3932</td> <td>  252.167</td> <td>    2.532</td> <td> 0.011</td> <td>  144.119</td> <td> 1132.668</td>\n",
       "</tr>\n",
       "<tr>\n",
       "  <th>x11</th> <td> 3431.9165</td> <td> 2932.150</td> <td>    1.170</td> <td> 0.242</td> <td>-2315.405</td> <td> 9179.238</td>\n",
       "</tr>\n",
       "<tr>\n",
       "  <th>x12</th> <td>-8264.1989</td> <td> 4494.629</td> <td>   -1.839</td> <td> 0.066</td> <td>-1.71e+04</td> <td>  545.744</td>\n",
       "</tr>\n",
       "<tr>\n",
       "  <th>x13</th> <td> 6834.6904</td> <td> 4042.086</td> <td>    1.691</td> <td> 0.091</td> <td>-1088.221</td> <td> 1.48e+04</td>\n",
       "</tr>\n",
       "<tr>\n",
       "  <th>x14</th> <td>-3094.1989</td> <td> 2344.446</td> <td>   -1.320</td> <td> 0.187</td> <td>-7689.558</td> <td> 1501.161</td>\n",
       "</tr>\n",
       "<tr>\n",
       "  <th>x15</th> <td>-3005.7492</td> <td> 3100.612</td> <td>   -0.969</td> <td> 0.332</td> <td>-9083.274</td> <td> 3071.775</td>\n",
       "</tr>\n",
       "<tr>\n",
       "  <th>x16</th> <td>  702.2192</td> <td> 2066.712</td> <td>    0.340</td> <td> 0.734</td> <td>-3348.753</td> <td> 4753.192</td>\n",
       "</tr>\n",
       "<tr>\n",
       "  <th>x17</th> <td>-2103.9682</td> <td> 1962.403</td> <td>   -1.072</td> <td> 0.284</td> <td>-5950.483</td> <td> 1742.547</td>\n",
       "</tr>\n",
       "<tr>\n",
       "  <th>x18</th> <td>   -9.0281</td> <td> 2066.704</td> <td>   -0.004</td> <td> 0.997</td> <td>-4059.984</td> <td> 4041.928</td>\n",
       "</tr>\n",
       "<tr>\n",
       "  <th>x19</th> <td>-6142.8575</td> <td> 2645.867</td> <td>   -2.322</td> <td> 0.020</td> <td>-1.13e+04</td> <td> -956.682</td>\n",
       "</tr>\n",
       "<tr>\n",
       "  <th>x20</th> <td> 7820.0516</td> <td> 5934.096</td> <td>    1.318</td> <td> 0.188</td> <td>-3811.398</td> <td> 1.95e+04</td>\n",
       "</tr>\n",
       "<tr>\n",
       "  <th>x21</th> <td> 3564.2530</td> <td> 5237.666</td> <td>    0.681</td> <td> 0.496</td> <td>-6702.122</td> <td> 1.38e+04</td>\n",
       "</tr>\n",
       "<tr>\n",
       "  <th>x22</th> <td> 1.037e+04</td> <td> 3258.857</td> <td>    3.181</td> <td> 0.001</td> <td> 3979.567</td> <td> 1.68e+04</td>\n",
       "</tr>\n",
       "<tr>\n",
       "  <th>x23</th> <td> 1.484e+04</td> <td> 4213.910</td> <td>    3.521</td> <td> 0.000</td> <td> 6579.119</td> <td> 2.31e+04</td>\n",
       "</tr>\n",
       "<tr>\n",
       "  <th>x24</th> <td> -591.2297</td> <td> 2533.067</td> <td>   -0.233</td> <td> 0.815</td> <td>-5556.306</td> <td> 4373.847</td>\n",
       "</tr>\n",
       "<tr>\n",
       "  <th>x25</th> <td>-9710.6946</td> <td> 2166.193</td> <td>   -4.483</td> <td> 0.000</td> <td> -1.4e+04</td> <td>-5464.729</td>\n",
       "</tr>\n",
       "<tr>\n",
       "  <th>x26</th> <td>  -90.7363</td> <td> 2778.952</td> <td>   -0.033</td> <td> 0.974</td> <td>-5537.773</td> <td> 5356.300</td>\n",
       "</tr>\n",
       "<tr>\n",
       "  <th>x27</th> <td>-6.847e+04</td> <td> 6956.386</td> <td>   -9.843</td> <td> 0.000</td> <td>-8.21e+04</td> <td>-5.48e+04</td>\n",
       "</tr>\n",
       "<tr>\n",
       "  <th>x28</th> <td> 1.324e+05</td> <td> 1.29e+04</td> <td>   10.263</td> <td> 0.000</td> <td> 1.07e+05</td> <td> 1.58e+05</td>\n",
       "</tr>\n",
       "<tr>\n",
       "  <th>x29</th> <td>-3.224e+04</td> <td> 5390.309</td> <td>   -5.980</td> <td> 0.000</td> <td>-4.28e+04</td> <td>-2.17e+04</td>\n",
       "</tr>\n",
       "<tr>\n",
       "  <th>x30</th> <td> 6.559e+04</td> <td> 6218.224</td> <td>   10.548</td> <td> 0.000</td> <td> 5.34e+04</td> <td> 7.78e+04</td>\n",
       "</tr>\n",
       "<tr>\n",
       "  <th>x31</th> <td>-9808.4678</td> <td> 3381.602</td> <td>   -2.901</td> <td> 0.004</td> <td>-1.64e+04</td> <td>-3180.173</td>\n",
       "</tr>\n",
       "<tr>\n",
       "  <th>x32</th> <td>-1.649e+04</td> <td> 2407.166</td> <td>   -6.848</td> <td> 0.000</td> <td>-2.12e+04</td> <td>-1.18e+04</td>\n",
       "</tr>\n",
       "<tr>\n",
       "  <th>x33</th> <td>   1.2e+04</td> <td> 4252.296</td> <td>    2.821</td> <td> 0.005</td> <td> 3660.688</td> <td> 2.03e+04</td>\n",
       "</tr>\n",
       "<tr>\n",
       "  <th>x34</th> <td>-6.102e+04</td> <td> 7239.149</td> <td>   -8.430</td> <td> 0.000</td> <td>-7.52e+04</td> <td>-4.68e+04</td>\n",
       "</tr>\n",
       "<tr>\n",
       "  <th>x35</th> <td>  988.7095</td> <td> 5056.387</td> <td>    0.196</td> <td> 0.845</td> <td>-8922.338</td> <td> 1.09e+04</td>\n",
       "</tr>\n",
       "<tr>\n",
       "  <th>x36</th> <td>-3.029e+04</td> <td> 5403.455</td> <td>   -5.606</td> <td> 0.000</td> <td>-4.09e+04</td> <td>-1.97e+04</td>\n",
       "</tr>\n",
       "<tr>\n",
       "  <th>x37</th> <td>-1.112e+04</td> <td> 3094.758</td> <td>   -3.592</td> <td> 0.000</td> <td>-1.72e+04</td> <td>-5051.385</td>\n",
       "</tr>\n",
       "<tr>\n",
       "  <th>x38</th> <td>-9445.1735</td> <td> 2477.159</td> <td>   -3.813</td> <td> 0.000</td> <td>-1.43e+04</td> <td>-4589.683</td>\n",
       "</tr>\n",
       "<tr>\n",
       "  <th>x39</th> <td>-1072.1197</td> <td> 3816.331</td> <td>   -0.281</td> <td> 0.779</td> <td>-8552.529</td> <td> 6408.289</td>\n",
       "</tr>\n",
       "<tr>\n",
       "  <th>x40</th> <td> 2.318e+04</td> <td> 1993.588</td> <td>   11.628</td> <td> 0.000</td> <td> 1.93e+04</td> <td> 2.71e+04</td>\n",
       "</tr>\n",
       "<tr>\n",
       "  <th>x41</th> <td>-2.043e+04</td> <td> 3294.082</td> <td>   -6.202</td> <td> 0.000</td> <td>-2.69e+04</td> <td> -1.4e+04</td>\n",
       "</tr>\n",
       "<tr>\n",
       "  <th>x42</th> <td> 3191.8380</td> <td> 2163.355</td> <td>    1.475</td> <td> 0.140</td> <td>-1048.563</td> <td> 7432.239</td>\n",
       "</tr>\n",
       "<tr>\n",
       "  <th>x43</th> <td>-7074.8195</td> <td> 2437.320</td> <td>   -2.903</td> <td> 0.004</td> <td>-1.19e+04</td> <td>-2297.417</td>\n",
       "</tr>\n",
       "<tr>\n",
       "  <th>x44</th> <td>-4555.7862</td> <td> 2118.670</td> <td>   -2.150</td> <td> 0.032</td> <td>-8708.602</td> <td> -402.971</td>\n",
       "</tr>\n",
       "<tr>\n",
       "  <th>x45</th> <td> 5550.3683</td> <td> 2700.825</td> <td>    2.055</td> <td> 0.040</td> <td>  256.469</td> <td> 1.08e+04</td>\n",
       "</tr>\n",
       "<tr>\n",
       "  <th>x46</th> <td>  1.62e+04</td> <td> 2608.060</td> <td>    6.212</td> <td> 0.000</td> <td> 1.11e+04</td> <td> 2.13e+04</td>\n",
       "</tr>\n",
       "<tr>\n",
       "  <th>x47</th> <td> 1.406e+04</td> <td> 2078.162</td> <td>    6.766</td> <td> 0.000</td> <td> 9986.589</td> <td> 1.81e+04</td>\n",
       "</tr>\n",
       "<tr>\n",
       "  <th>x48</th> <td> 7713.3382</td> <td> 2966.867</td> <td>    2.600</td> <td> 0.009</td> <td> 1897.967</td> <td> 1.35e+04</td>\n",
       "</tr>\n",
       "<tr>\n",
       "  <th>x49</th> <td> 4060.2728</td> <td> 1511.952</td> <td>    2.685</td> <td> 0.007</td> <td> 1096.688</td> <td> 7023.857</td>\n",
       "</tr>\n",
       "<tr>\n",
       "  <th>x50</th> <td> 4985.3976</td> <td> 1866.230</td> <td>    2.671</td> <td> 0.008</td> <td> 1327.391</td> <td> 8643.404</td>\n",
       "</tr>\n",
       "<tr>\n",
       "  <th>x51</th> <td> 4054.5667</td> <td> 1757.513</td> <td>    2.307</td> <td> 0.021</td> <td>  609.657</td> <td> 7499.476</td>\n",
       "</tr>\n",
       "<tr>\n",
       "  <th>x52</th> <td> 4.965e+05</td> <td> 3524.436</td> <td>  140.886</td> <td> 0.000</td> <td>  4.9e+05</td> <td> 5.03e+05</td>\n",
       "</tr>\n",
       "<tr>\n",
       "  <th>x53</th> <td>  859.3544</td> <td> 1587.879</td> <td>    0.541</td> <td> 0.588</td> <td>-2253.055</td> <td> 3971.764</td>\n",
       "</tr>\n",
       "<tr>\n",
       "  <th>x54</th> <td> -889.9978</td> <td> 1311.948</td> <td>   -0.678</td> <td> 0.498</td> <td>-3461.554</td> <td> 1681.559</td>\n",
       "</tr>\n",
       "</table>\n",
       "<table class=\"simpletable\">\n",
       "<tr>\n",
       "  <th>Omnibus:</th>       <td>7713.330</td> <th>  Durbin-Watson:     </th>  <td>   1.997</td> \n",
       "</tr>\n",
       "<tr>\n",
       "  <th>Prob(Omnibus):</th>  <td> 0.000</td>  <th>  Jarque-Bera (JB):  </th> <td>171655.002</td>\n",
       "</tr>\n",
       "<tr>\n",
       "  <th>Skew:</th>           <td> 1.678</td>  <th>  Prob(JB):          </th>  <td>    0.00</td> \n",
       "</tr>\n",
       "<tr>\n",
       "  <th>Kurtosis:</th>       <td>18.242</td>  <th>  Cond. No.          </th>  <td>    369.</td> \n",
       "</tr>\n",
       "</table><br/><br/>Notes:<br/>[1] Standard Errors assume that the covariance matrix of the errors is correctly specified."
      ],
      "text/plain": [
       "<class 'statsmodels.iolib.summary.Summary'>\n",
       "\"\"\"\n",
       "                            OLS Regression Results                            \n",
       "==============================================================================\n",
       "Dep. Variable:                  price   R-squared:                       0.719\n",
       "Model:                            OLS   Adj. R-squared:                  0.719\n",
       "Method:                 Least Squares   F-statistic:                     815.8\n",
       "Date:                Thu, 26 Oct 2023   Prob (F-statistic):               0.00\n",
       "Time:                        01:46:05   Log-Likelihood:            -2.3000e+05\n",
       "No. Observations:               16914   AIC:                         4.601e+05\n",
       "Df Residuals:                   16860   BIC:                         4.605e+05\n",
       "Df Model:                          53                                         \n",
       "Covariance Type:            nonrobust                                         \n",
       "==============================================================================\n",
       "                 coef    std err          t      P>|t|      [0.025      0.975]\n",
       "------------------------------------------------------------------------------\n",
       "x1         -1.334e+04   2241.953     -5.952      0.000   -1.77e+04   -8949.858\n",
       "x2          2.851e+04   2972.717      9.591      0.000    2.27e+04    3.43e+04\n",
       "x3          1.458e+05   5967.287     24.434      0.000    1.34e+05    1.57e+05\n",
       "x4         -3.598e+04   4920.108     -7.312      0.000   -4.56e+04   -2.63e+04\n",
       "x5         -7.013e+04   2713.742    -25.844      0.000   -7.55e+04   -6.48e+04\n",
       "x6          1.373e+05   2775.927     49.475      0.000    1.32e+05    1.43e+05\n",
       "x7          1.559e+04   5007.623      3.114      0.002    5778.958    2.54e+04\n",
       "x8          5.948e+06   4.21e+04    141.228      0.000    5.87e+06    6.03e+06\n",
       "x9          1.931e+04   2446.360      7.894      0.000    1.45e+04    2.41e+04\n",
       "x10          638.3932    252.167      2.532      0.011     144.119    1132.668\n",
       "x11         3431.9165   2932.150      1.170      0.242   -2315.405    9179.238\n",
       "x12        -8264.1989   4494.629     -1.839      0.066   -1.71e+04     545.744\n",
       "x13         6834.6904   4042.086      1.691      0.091   -1088.221    1.48e+04\n",
       "x14        -3094.1989   2344.446     -1.320      0.187   -7689.558    1501.161\n",
       "x15        -3005.7492   3100.612     -0.969      0.332   -9083.274    3071.775\n",
       "x16          702.2192   2066.712      0.340      0.734   -3348.753    4753.192\n",
       "x17        -2103.9682   1962.403     -1.072      0.284   -5950.483    1742.547\n",
       "x18           -9.0281   2066.704     -0.004      0.997   -4059.984    4041.928\n",
       "x19        -6142.8575   2645.867     -2.322      0.020   -1.13e+04    -956.682\n",
       "x20         7820.0516   5934.096      1.318      0.188   -3811.398    1.95e+04\n",
       "x21         3564.2530   5237.666      0.681      0.496   -6702.122    1.38e+04\n",
       "x22         1.037e+04   3258.857      3.181      0.001    3979.567    1.68e+04\n",
       "x23         1.484e+04   4213.910      3.521      0.000    6579.119    2.31e+04\n",
       "x24         -591.2297   2533.067     -0.233      0.815   -5556.306    4373.847\n",
       "x25        -9710.6946   2166.193     -4.483      0.000    -1.4e+04   -5464.729\n",
       "x26          -90.7363   2778.952     -0.033      0.974   -5537.773    5356.300\n",
       "x27        -6.847e+04   6956.386     -9.843      0.000   -8.21e+04   -5.48e+04\n",
       "x28         1.324e+05   1.29e+04     10.263      0.000    1.07e+05    1.58e+05\n",
       "x29        -3.224e+04   5390.309     -5.980      0.000   -4.28e+04   -2.17e+04\n",
       "x30         6.559e+04   6218.224     10.548      0.000    5.34e+04    7.78e+04\n",
       "x31        -9808.4678   3381.602     -2.901      0.004   -1.64e+04   -3180.173\n",
       "x32        -1.649e+04   2407.166     -6.848      0.000   -2.12e+04   -1.18e+04\n",
       "x33           1.2e+04   4252.296      2.821      0.005    3660.688    2.03e+04\n",
       "x34        -6.102e+04   7239.149     -8.430      0.000   -7.52e+04   -4.68e+04\n",
       "x35          988.7095   5056.387      0.196      0.845   -8922.338    1.09e+04\n",
       "x36        -3.029e+04   5403.455     -5.606      0.000   -4.09e+04   -1.97e+04\n",
       "x37        -1.112e+04   3094.758     -3.592      0.000   -1.72e+04   -5051.385\n",
       "x38        -9445.1735   2477.159     -3.813      0.000   -1.43e+04   -4589.683\n",
       "x39        -1072.1197   3816.331     -0.281      0.779   -8552.529    6408.289\n",
       "x40         2.318e+04   1993.588     11.628      0.000    1.93e+04    2.71e+04\n",
       "x41        -2.043e+04   3294.082     -6.202      0.000   -2.69e+04    -1.4e+04\n",
       "x42         3191.8380   2163.355      1.475      0.140   -1048.563    7432.239\n",
       "x43        -7074.8195   2437.320     -2.903      0.004   -1.19e+04   -2297.417\n",
       "x44        -4555.7862   2118.670     -2.150      0.032   -8708.602    -402.971\n",
       "x45         5550.3683   2700.825      2.055      0.040     256.469    1.08e+04\n",
       "x46          1.62e+04   2608.060      6.212      0.000    1.11e+04    2.13e+04\n",
       "x47         1.406e+04   2078.162      6.766      0.000    9986.589    1.81e+04\n",
       "x48         7713.3382   2966.867      2.600      0.009    1897.967    1.35e+04\n",
       "x49         4060.2728   1511.952      2.685      0.007    1096.688    7023.857\n",
       "x50         4985.3976   1866.230      2.671      0.008    1327.391    8643.404\n",
       "x51         4054.5667   1757.513      2.307      0.021     609.657    7499.476\n",
       "x52         4.965e+05   3524.436    140.886      0.000     4.9e+05    5.03e+05\n",
       "x53          859.3544   1587.879      0.541      0.588   -2253.055    3971.764\n",
       "x54         -889.9978   1311.948     -0.678      0.498   -3461.554    1681.559\n",
       "==============================================================================\n",
       "Omnibus:                     7713.330   Durbin-Watson:                   1.997\n",
       "Prob(Omnibus):                  0.000   Jarque-Bera (JB):           171655.002\n",
       "Skew:                           1.678   Prob(JB):                         0.00\n",
       "Kurtosis:                      18.242   Cond. No.                         369.\n",
       "==============================================================================\n",
       "\n",
       "Notes:\n",
       "[1] Standard Errors assume that the covariance matrix of the errors is correctly specified.\n",
       "\"\"\""
      ]
     },
     "execution_count": 50,
     "metadata": {},
     "output_type": "execute_result"
    }
   ],
   "source": [
    "\n",
    "import numpy as np\n",
    "from sklearn.preprocessing import PolynomialFeatures\n",
    "import statsmodels.api as sm\n",
    "\n",
    "def build_polynomial_linear_model(X, y, degree=2):\n",
    "    # Create polynomial features\n",
    "    poly = PolynomialFeatures(degree=degree, include_bias=False)\n",
    "    X_poly = poly.fit_transform(X)\n",
    "\n",
    "    # Add a constant term (intercept)\n",
    "    X_poly = (X_poly)\n",
    "\n",
    "    # Build and fit a linear regression model using statsmodels\n",
    "    model = sm.OLS(y, X_poly).fit()\n",
    "\n",
    "    return model\n",
    "\n",
    "\n",
    "\n",
    "# Build the polynomial linear model\n",
    "model = build_polynomial_linear_model(X_train, y_train, degree=2)\n",
    "\n",
    "# Print the summary of the model\n",
    "model.summary()\n",
    "\n",
    "\n"
   ]
  },
  {
   "cell_type": "markdown",
   "metadata": {},
   "source": [
    "coefficients and p_values"
   ]
  },
  {
   "cell_type": "code",
   "execution_count": 51,
   "metadata": {},
   "outputs": [
    {
     "data": {
      "text/plain": [
       "x1    -1.334432e+04\n",
       "x2     2.851020e+04\n",
       "x3     1.458025e+05\n",
       "x4    -3.597659e+04\n",
       "x5    -7.013461e+04\n",
       "x6     1.373397e+05\n",
       "x7     1.559442e+04\n",
       "x8     5.947704e+06\n",
       "x9     1.931195e+04\n",
       "x10    6.383932e+02\n",
       "x11    3.431917e+03\n",
       "x12   -8.264199e+03\n",
       "x13    6.834690e+03\n",
       "x14   -3.094199e+03\n",
       "x15   -3.005749e+03\n",
       "x16    7.022192e+02\n",
       "x17   -2.103968e+03\n",
       "x18   -9.028054e+00\n",
       "x19   -6.142858e+03\n",
       "x20    7.820052e+03\n",
       "x21    3.564253e+03\n",
       "x22    1.036727e+04\n",
       "x23    1.483882e+04\n",
       "x24   -5.912297e+02\n",
       "x25   -9.710695e+03\n",
       "x26   -9.073632e+01\n",
       "x27   -6.847166e+04\n",
       "x28    1.324299e+05\n",
       "x29   -3.223643e+04\n",
       "x30    6.558897e+04\n",
       "x31   -9.808468e+03\n",
       "x32   -1.648529e+04\n",
       "x33    1.199563e+04\n",
       "x34   -6.102379e+04\n",
       "x35    9.887095e+02\n",
       "x36   -3.029283e+04\n",
       "x37   -1.111744e+04\n",
       "x38   -9.445173e+03\n",
       "x39   -1.072120e+03\n",
       "x40    2.318242e+04\n",
       "x41   -2.042966e+04\n",
       "x42    3.191838e+03\n",
       "x43   -7.074819e+03\n",
       "x44   -4.555786e+03\n",
       "x45    5.550368e+03\n",
       "x46    1.620088e+04\n",
       "x47    1.406000e+04\n",
       "x48    7.713338e+03\n",
       "x49    4.060273e+03\n",
       "x50    4.985398e+03\n",
       "x51    4.054567e+03\n",
       "x52    4.965438e+05\n",
       "x53    8.593544e+02\n",
       "x54   -8.899978e+02\n",
       "dtype: float64"
      ]
     },
     "execution_count": 51,
     "metadata": {},
     "output_type": "execute_result"
    }
   ],
   "source": [
    "model.params"
   ]
  },
  {
   "cell_type": "code",
   "execution_count": 52,
   "metadata": {},
   "outputs": [
    {
     "data": {
      "text/plain": [
       "x1      2.699746e-09\n",
       "x2      9.948197e-22\n",
       "x3     1.335751e-129\n",
       "x4      2.746822e-13\n",
       "x5     1.813546e-144\n",
       "x6      0.000000e+00\n",
       "x7      1.847929e-03\n",
       "x8      0.000000e+00\n",
       "x9      3.101291e-15\n",
       "x10     1.136250e-02\n",
       "x11     2.418390e-01\n",
       "x12     6.597936e-02\n",
       "x13     9.087783e-02\n",
       "x14     1.869198e-01\n",
       "x15     3.323570e-01\n",
       "x16     7.340295e-01\n",
       "x17     2.836730e-01\n",
       "x18     9.965146e-01\n",
       "x19     2.026199e-02\n",
       "x20     1.875829e-01\n",
       "x21     4.961947e-01\n",
       "x22     1.469021e-03\n",
       "x23     4.304233e-04\n",
       "x24     8.154500e-01\n",
       "x25     7.414201e-06\n",
       "x26     9.739531e-01\n",
       "x27     8.466214e-23\n",
       "x28     1.224674e-24\n",
       "x29     2.270258e-09\n",
       "x30     6.258948e-26\n",
       "x31     3.730033e-03\n",
       "x32     7.724659e-12\n",
       "x33     4.793341e-03\n",
       "x34     3.742282e-17\n",
       "x35     8.449751e-01\n",
       "x36     2.100622e-08\n",
       "x37     3.286498e-04\n",
       "x38     1.378315e-04\n",
       "x39     7.787680e-01\n",
       "x40     3.882083e-31\n",
       "x41     5.707568e-10\n",
       "x42     1.401206e-01\n",
       "x43     3.704348e-03\n",
       "x44     3.154532e-02\n",
       "x45     3.988816e-02\n",
       "x46     5.359265e-10\n",
       "x47     1.371273e-11\n",
       "x48     9.335244e-03\n",
       "x49     7.250297e-03\n",
       "x50     7.561412e-03\n",
       "x51     2.106737e-02\n",
       "x52     0.000000e+00\n",
       "x53     5.883794e-01\n",
       "x54     4.975410e-01\n",
       "dtype: float64"
      ]
     },
     "execution_count": 52,
     "metadata": {},
     "output_type": "execute_result"
    }
   ],
   "source": [
    "model.pvalues"
   ]
  },
  {
   "cell_type": "markdown",
   "metadata": {},
   "source": [
    "Prediction metrics"
   ]
  },
  {
   "cell_type": "code",
   "execution_count": 53,
   "metadata": {},
   "outputs": [
    {
     "data": {
      "text/plain": [
       "{'MAE': 141592.73032447265,\n",
       " 'MSE': 46826238256.493065,\n",
       " 'R-squared': 0.6583531730583653}"
      ]
     },
     "execution_count": 53,
     "metadata": {},
     "output_type": "execute_result"
    }
   ],
   "source": [
    "X_test = sm.add_constant(X_test)\n",
    "y_pred = results.predict(X_test)\n",
    "\n",
    "calculate_regression_metrics(y_test, y_pred)"
   ]
  },
  {
   "cell_type": "markdown",
   "metadata": {},
   "source": [
    "#### Summary on evaluation\n",
    "The models that we have constructed has given us a more in depth understanding on the association of the various house features and the prices.\n",
    "The model we finally came up with explains 72% proportion of the variance in the dependent variable (price) that is explained by the independent variables (features) in our regression model. \n",
    "Most of the households that would love to purchase houses in King County can now have a general idea of the criteria of house pricing. "
   ]
  },
  {
   "cell_type": "markdown",
   "metadata": {},
   "source": [
    "#### Conclusion.\n",
    "The biggest contributors to pricing in a house is the square footage of the living space, square footage of the house excluding the basement and the grade of the house."
   ]
  },
  {
   "cell_type": "markdown",
   "metadata": {},
   "source": [
    "### LIMITATIONS\n",
    "1. Our analysis relied on two data sets. More data would have given us a further analysis.\n",
    "\n",
    "### NEXT STEPS\n",
    "\n",
    "Incorporate more stakeholders like Architects\n",
    "Explore more complex models in the near future  for better analysis and results"
   ]
  },
  {
   "cell_type": "code",
   "execution_count": null,
   "metadata": {},
   "outputs": [],
   "source": []
  }
 ],
 "metadata": {
  "kernelspec": {
   "display_name": "Python 3 (ipykernel)",
   "language": "python",
   "name": "python3"
  },
  "language_info": {
   "codemirror_mode": {
    "name": "ipython",
    "version": 3
   },
   "file_extension": ".py",
   "mimetype": "text/x-python",
   "name": "python",
   "nbconvert_exporter": "python",
   "pygments_lexer": "ipython3",
   "version": "3.11.3"
  }
 },
 "nbformat": 4,
 "nbformat_minor": 2
}
